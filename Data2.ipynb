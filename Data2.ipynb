{
 "cells": [
  {
   "cell_type": "code",
   "execution_count": 15,
   "metadata": {},
   "outputs": [],
   "source": [
    "import FinanceDataReader as fdr\n",
    "import pandas as pd\n",
    "import numpy as np\n",
    "from pandas_datareader import data as pdr\n",
    "import yfinance as yf"
   ]
  },
  {
   "cell_type": "code",
   "execution_count": 2,
   "metadata": {},
   "outputs": [],
   "source": [
    "yf.pdr_override()"
   ]
  },
  {
   "cell_type": "code",
   "execution_count": 4,
   "metadata": {
    "scrolled": true
   },
   "outputs": [
    {
     "name": "stdout",
     "output_type": "stream",
     "text": [
      "[*********************100%***********************]  1 of 1 completed\n"
     ]
    }
   ],
   "source": [
    "data = pd.DataFrame(yf.download('BTC', interval='1h'))"
   ]
  },
  {
   "cell_type": "code",
   "execution_count": 5,
   "metadata": {},
   "outputs": [
    {
     "data": {
      "text/html": [
       "<div>\n",
       "<style scoped>\n",
       "    .dataframe tbody tr th:only-of-type {\n",
       "        vertical-align: middle;\n",
       "    }\n",
       "\n",
       "    .dataframe tbody tr th {\n",
       "        vertical-align: top;\n",
       "    }\n",
       "\n",
       "    .dataframe thead th {\n",
       "        text-align: right;\n",
       "    }\n",
       "</style>\n",
       "<table border=\"1\" class=\"dataframe\">\n",
       "  <thead>\n",
       "    <tr style=\"text-align: right;\">\n",
       "      <th></th>\n",
       "      <th>Open</th>\n",
       "      <th>High</th>\n",
       "      <th>Low</th>\n",
       "      <th>Close</th>\n",
       "      <th>Adj Close</th>\n",
       "      <th>Volume</th>\n",
       "    </tr>\n",
       "  </thead>\n",
       "  <tbody>\n",
       "    <tr>\n",
       "      <th>2021-04-15 15:30:00-04:00</th>\n",
       "      <td>99.008301</td>\n",
       "      <td>99.008301</td>\n",
       "      <td>99.008301</td>\n",
       "      <td>99.008301</td>\n",
       "      <td>99.008301</td>\n",
       "      <td>0</td>\n",
       "    </tr>\n",
       "    <tr>\n",
       "      <th>2021-04-16 09:30:00-04:00</th>\n",
       "      <td>100.889999</td>\n",
       "      <td>100.889999</td>\n",
       "      <td>99.008301</td>\n",
       "      <td>99.970001</td>\n",
       "      <td>99.970001</td>\n",
       "      <td>1658</td>\n",
       "    </tr>\n",
       "    <tr>\n",
       "      <th>2021-04-16 10:30:00-04:00</th>\n",
       "      <td>99.419998</td>\n",
       "      <td>99.419998</td>\n",
       "      <td>98.769997</td>\n",
       "      <td>98.769997</td>\n",
       "      <td>98.769997</td>\n",
       "      <td>489</td>\n",
       "    </tr>\n",
       "    <tr>\n",
       "      <th>2021-04-16 11:30:00-04:00</th>\n",
       "      <td>99.410004</td>\n",
       "      <td>99.410004</td>\n",
       "      <td>99.410004</td>\n",
       "      <td>99.410004</td>\n",
       "      <td>99.410004</td>\n",
       "      <td>636</td>\n",
       "    </tr>\n",
       "    <tr>\n",
       "      <th>2021-04-16 12:30:00-04:00</th>\n",
       "      <td>99.279999</td>\n",
       "      <td>99.307404</td>\n",
       "      <td>99.279999</td>\n",
       "      <td>99.307404</td>\n",
       "      <td>99.307404</td>\n",
       "      <td>284</td>\n",
       "    </tr>\n",
       "  </tbody>\n",
       "</table>\n",
       "</div>"
      ],
      "text/plain": [
       "                                 Open        High        Low      Close  \\\n",
       "2021-04-15 15:30:00-04:00   99.008301   99.008301  99.008301  99.008301   \n",
       "2021-04-16 09:30:00-04:00  100.889999  100.889999  99.008301  99.970001   \n",
       "2021-04-16 10:30:00-04:00   99.419998   99.419998  98.769997  98.769997   \n",
       "2021-04-16 11:30:00-04:00   99.410004   99.410004  99.410004  99.410004   \n",
       "2021-04-16 12:30:00-04:00   99.279999   99.307404  99.279999  99.307404   \n",
       "\n",
       "                           Adj Close  Volume  \n",
       "2021-04-15 15:30:00-04:00  99.008301       0  \n",
       "2021-04-16 09:30:00-04:00  99.970001    1658  \n",
       "2021-04-16 10:30:00-04:00  98.769997     489  \n",
       "2021-04-16 11:30:00-04:00  99.410004     636  \n",
       "2021-04-16 12:30:00-04:00  99.307404     284  "
      ]
     },
     "execution_count": 5,
     "metadata": {},
     "output_type": "execute_result"
    }
   ],
   "source": [
    "data.head()"
   ]
  },
  {
   "cell_type": "code",
   "execution_count": 12,
   "metadata": {},
   "outputs": [
    {
     "name": "stderr",
     "output_type": "stream",
     "text": [
      "C:\\Users\\kevin\\anaconda3\\envs\\trader\\lib\\site-packages\\FinanceDataReader\\data.py:47: FutureWarning: The frame.append method is deprecated and will be removed from pandas in a future version. Use pandas.concat instead.\n",
      "  df = df.append(more)\n"
     ]
    }
   ],
   "source": [
    "ndaq = pd.DataFrame(fdr.DataReader('IXIC', '2000'))"
   ]
  },
  {
   "cell_type": "code",
   "execution_count": 25,
   "metadata": {},
   "outputs": [
    {
     "ename": "TypeError",
     "evalue": "__init__() got an unexpected keyword argument 'parse_dates'",
     "output_type": "error",
     "traceback": [
      "\u001b[1;31m---------------------------------------------------------------------------\u001b[0m",
      "\u001b[1;31mTypeError\u001b[0m                                 Traceback (most recent call last)",
      "Input \u001b[1;32mIn [25]\u001b[0m, in \u001b[0;36m<module>\u001b[1;34m\u001b[0m\n\u001b[1;32m----> 1\u001b[0m GOLD \u001b[38;5;241m=\u001b[39m \u001b[43mpd\u001b[49m\u001b[38;5;241;43m.\u001b[39;49m\u001b[43mDataFrame\u001b[49m\u001b[43m(\u001b[49m\u001b[43mfdr\u001b[49m\u001b[38;5;241;43m.\u001b[39;49m\u001b[43mDataReader\u001b[49m\u001b[43m(\u001b[49m\u001b[38;5;124;43m'\u001b[39;49m\u001b[38;5;124;43mZG\u001b[39;49m\u001b[38;5;124;43m'\u001b[39;49m\u001b[43m,\u001b[49m\u001b[43m \u001b[49m\u001b[38;5;124;43m'\u001b[39;49m\u001b[38;5;124;43m2021\u001b[39;49m\u001b[38;5;124;43m'\u001b[39;49m\u001b[43m)\u001b[49m\u001b[43m,\u001b[49m\u001b[43m \u001b[49m\u001b[43mparse_dates\u001b[49m\u001b[38;5;241;43m=\u001b[39;49m\u001b[43m[\u001b[49m\u001b[38;5;124;43m'\u001b[39;49m\u001b[38;5;124;43mDate\u001b[39;49m\u001b[38;5;124;43m'\u001b[39;49m\u001b[43m]\u001b[49m\u001b[43m,\u001b[49m\u001b[43m \u001b[49m\u001b[43mindex_col\u001b[49m\u001b[38;5;241;43m=\u001b[39;49m\u001b[38;5;124;43m'\u001b[39;49m\u001b[38;5;124;43mDate\u001b[39;49m\u001b[38;5;124;43m'\u001b[39;49m\u001b[43m)\u001b[49m\n\u001b[0;32m      2\u001b[0m NDAQ \u001b[38;5;241m=\u001b[39m pd\u001b[38;5;241m.\u001b[39mDataFrame(fdr\u001b[38;5;241m.\u001b[39mDataReader(\u001b[38;5;124m'\u001b[39m\u001b[38;5;124mIXIC\u001b[39m\u001b[38;5;124m'\u001b[39m, \u001b[38;5;124m'\u001b[39m\u001b[38;5;124m2021\u001b[39m\u001b[38;5;124m'\u001b[39m), parse_dates\u001b[38;5;241m=\u001b[39m[\u001b[38;5;124m'\u001b[39m\u001b[38;5;124mDate\u001b[39m\u001b[38;5;124m'\u001b[39m], index_col\u001b[38;5;241m=\u001b[39m\u001b[38;5;124m'\u001b[39m\u001b[38;5;124mDate\u001b[39m\u001b[38;5;124m'\u001b[39m)\n\u001b[0;32m      3\u001b[0m US10YT \u001b[38;5;241m=\u001b[39m pd\u001b[38;5;241m.\u001b[39mDataFrame(fdr\u001b[38;5;241m.\u001b[39mDataReader(\u001b[38;5;124m'\u001b[39m\u001b[38;5;124mUS10YT=X\u001b[39m\u001b[38;5;124m'\u001b[39m, \u001b[38;5;124m'\u001b[39m\u001b[38;5;124m2021\u001b[39m\u001b[38;5;124m'\u001b[39m), parse_dates\u001b[38;5;241m=\u001b[39m[\u001b[38;5;124m'\u001b[39m\u001b[38;5;124mDate\u001b[39m\u001b[38;5;124m'\u001b[39m], index_col\u001b[38;5;241m=\u001b[39m\u001b[38;5;124m'\u001b[39m\u001b[38;5;124mDate\u001b[39m\u001b[38;5;124m'\u001b[39m)\n",
      "\u001b[1;31mTypeError\u001b[0m: __init__() got an unexpected keyword argument 'parse_dates'"
     ]
    }
   ],
   "source": [
    "GOLD = pd.DataFrame(fdr.DataReader('ZG', '2021'), parse_dates=['Date'], index_col='Date')\n",
    "NDAQ = pd.DataFrame(fdr.DataReader('IXIC', '2021'), parse_dates=['Date'], index_col='Date')\n",
    "US10YT = pd.DataFrame(fdr.DataReader('US10YT=X', '2021'), parse_dates=['Date'], index_col='Date')\n",
    "VIX = pd.DataFrame(fdr.DataReader('VIX', '2021'), parse_dates=['Date'], index_col='Date')"
   ]
  },
  {
   "cell_type": "code",
   "execution_count": 13,
   "metadata": {},
   "outputs": [
    {
     "data": {
      "text/html": [
       "<div>\n",
       "<style scoped>\n",
       "    .dataframe tbody tr th:only-of-type {\n",
       "        vertical-align: middle;\n",
       "    }\n",
       "\n",
       "    .dataframe tbody tr th {\n",
       "        vertical-align: top;\n",
       "    }\n",
       "\n",
       "    .dataframe thead th {\n",
       "        text-align: right;\n",
       "    }\n",
       "</style>\n",
       "<table border=\"1\" class=\"dataframe\">\n",
       "  <thead>\n",
       "    <tr style=\"text-align: right;\">\n",
       "      <th></th>\n",
       "      <th>Close</th>\n",
       "      <th>Open</th>\n",
       "      <th>High</th>\n",
       "      <th>Low</th>\n",
       "      <th>Volume</th>\n",
       "      <th>Change</th>\n",
       "    </tr>\n",
       "    <tr>\n",
       "      <th>Date</th>\n",
       "      <th></th>\n",
       "      <th></th>\n",
       "      <th></th>\n",
       "      <th></th>\n",
       "      <th></th>\n",
       "      <th></th>\n",
       "    </tr>\n",
       "  </thead>\n",
       "  <tbody>\n",
       "    <tr>\n",
       "      <th>2006-06-15</th>\n",
       "      <td>2144.15</td>\n",
       "      <td>2098.37</td>\n",
       "      <td>2147.91</td>\n",
       "      <td>2086.00</td>\n",
       "      <td>1.610000e+09</td>\n",
       "      <td>0.0279</td>\n",
       "    </tr>\n",
       "    <tr>\n",
       "      <th>2006-06-16</th>\n",
       "      <td>2129.95</td>\n",
       "      <td>2140.51</td>\n",
       "      <td>2144.15</td>\n",
       "      <td>2122.78</td>\n",
       "      <td>1.990000e+09</td>\n",
       "      <td>-0.0066</td>\n",
       "    </tr>\n",
       "    <tr>\n",
       "      <th>2006-06-19</th>\n",
       "      <td>2110.42</td>\n",
       "      <td>2136.60</td>\n",
       "      <td>2138.77</td>\n",
       "      <td>2104.38</td>\n",
       "      <td>1.250000e+09</td>\n",
       "      <td>-0.0092</td>\n",
       "    </tr>\n",
       "    <tr>\n",
       "      <th>2006-06-20</th>\n",
       "      <td>2107.06</td>\n",
       "      <td>2110.92</td>\n",
       "      <td>2126.72</td>\n",
       "      <td>2103.77</td>\n",
       "      <td>1.250000e+09</td>\n",
       "      <td>-0.0016</td>\n",
       "    </tr>\n",
       "    <tr>\n",
       "      <th>2006-06-21</th>\n",
       "      <td>2141.20</td>\n",
       "      <td>2109.22</td>\n",
       "      <td>2152.56</td>\n",
       "      <td>2107.06</td>\n",
       "      <td>1.420000e+09</td>\n",
       "      <td>0.0162</td>\n",
       "    </tr>\n",
       "  </tbody>\n",
       "</table>\n",
       "</div>"
      ],
      "text/plain": [
       "              Close     Open     High      Low        Volume  Change\n",
       "Date                                                                \n",
       "2006-06-15  2144.15  2098.37  2147.91  2086.00  1.610000e+09  0.0279\n",
       "2006-06-16  2129.95  2140.51  2144.15  2122.78  1.990000e+09 -0.0066\n",
       "2006-06-19  2110.42  2136.60  2138.77  2104.38  1.250000e+09 -0.0092\n",
       "2006-06-20  2107.06  2110.92  2126.72  2103.77  1.250000e+09 -0.0016\n",
       "2006-06-21  2141.20  2109.22  2152.56  2107.06  1.420000e+09  0.0162"
      ]
     },
     "execution_count": 13,
     "metadata": {},
     "output_type": "execute_result"
    }
   ],
   "source": [
    "ndaq.head()"
   ]
  },
  {
   "cell_type": "code",
   "execution_count": 14,
   "metadata": {},
   "outputs": [],
   "source": [
    "ndaq.to_csv('./data/ndaq_long.csv')"
   ]
  },
  {
   "cell_type": "code",
   "execution_count": 21,
   "metadata": {},
   "outputs": [],
   "source": [
    "btc = pd.DataFrame(fdr.DataReader('BTC/USD', '2021'))"
   ]
  },
  {
   "cell_type": "code",
   "execution_count": 22,
   "metadata": {},
   "outputs": [],
   "source": [
    "btc = btc.iloc[:, 0:6]"
   ]
  },
  {
   "cell_type": "code",
   "execution_count": 23,
   "metadata": {},
   "outputs": [
    {
     "data": {
      "text/html": [
       "<div>\n",
       "<style scoped>\n",
       "    .dataframe tbody tr th:only-of-type {\n",
       "        vertical-align: middle;\n",
       "    }\n",
       "\n",
       "    .dataframe tbody tr th {\n",
       "        vertical-align: top;\n",
       "    }\n",
       "\n",
       "    .dataframe thead th {\n",
       "        text-align: right;\n",
       "    }\n",
       "</style>\n",
       "<table border=\"1\" class=\"dataframe\">\n",
       "  <thead>\n",
       "    <tr style=\"text-align: right;\">\n",
       "      <th></th>\n",
       "      <th>Close</th>\n",
       "      <th>Open</th>\n",
       "      <th>High</th>\n",
       "      <th>Low</th>\n",
       "      <th>Volume</th>\n",
       "      <th>Change</th>\n",
       "    </tr>\n",
       "    <tr>\n",
       "      <th>Date</th>\n",
       "      <th></th>\n",
       "      <th></th>\n",
       "      <th></th>\n",
       "      <th></th>\n",
       "      <th></th>\n",
       "      <th></th>\n",
       "    </tr>\n",
       "  </thead>\n",
       "  <tbody>\n",
       "    <tr>\n",
       "      <th>2021-01-01</th>\n",
       "      <td>29359.9</td>\n",
       "      <td>28951.7</td>\n",
       "      <td>29627.1</td>\n",
       "      <td>28712.4</td>\n",
       "      <td>100900.0</td>\n",
       "      <td>0.0142</td>\n",
       "    </tr>\n",
       "    <tr>\n",
       "      <th>2021-01-02</th>\n",
       "      <td>32193.3</td>\n",
       "      <td>29359.7</td>\n",
       "      <td>33233.5</td>\n",
       "      <td>29008.0</td>\n",
       "      <td>240870.0</td>\n",
       "      <td>0.0965</td>\n",
       "    </tr>\n",
       "    <tr>\n",
       "      <th>2021-01-03</th>\n",
       "      <td>32958.9</td>\n",
       "      <td>32192.9</td>\n",
       "      <td>34755.9</td>\n",
       "      <td>32029.6</td>\n",
       "      <td>155210.0</td>\n",
       "      <td>0.0238</td>\n",
       "    </tr>\n",
       "    <tr>\n",
       "      <th>2021-01-04</th>\n",
       "      <td>32022.6</td>\n",
       "      <td>33016.6</td>\n",
       "      <td>33587.5</td>\n",
       "      <td>28204.5</td>\n",
       "      <td>255270.0</td>\n",
       "      <td>-0.0284</td>\n",
       "    </tr>\n",
       "    <tr>\n",
       "      <th>2021-01-05</th>\n",
       "      <td>33991.5</td>\n",
       "      <td>32015.4</td>\n",
       "      <td>34414.7</td>\n",
       "      <td>30010.5</td>\n",
       "      <td>202130.0</td>\n",
       "      <td>0.0615</td>\n",
       "    </tr>\n",
       "  </tbody>\n",
       "</table>\n",
       "</div>"
      ],
      "text/plain": [
       "              Close     Open     High      Low    Volume  Change\n",
       "Date                                                            \n",
       "2021-01-01  29359.9  28951.7  29627.1  28712.4  100900.0  0.0142\n",
       "2021-01-02  32193.3  29359.7  33233.5  29008.0  240870.0  0.0965\n",
       "2021-01-03  32958.9  32192.9  34755.9  32029.6  155210.0  0.0238\n",
       "2021-01-04  32022.6  33016.6  33587.5  28204.5  255270.0 -0.0284\n",
       "2021-01-05  33991.5  32015.4  34414.7  30010.5  202130.0  0.0615"
      ]
     },
     "execution_count": 23,
     "metadata": {},
     "output_type": "execute_result"
    }
   ],
   "source": [
    "btc.head()"
   ]
  },
  {
   "cell_type": "code",
   "execution_count": 68,
   "metadata": {},
   "outputs": [],
   "source": [
    "btc.to_csv('./data/BTC.csv')"
   ]
  },
  {
   "cell_type": "code",
   "execution_count": 61,
   "metadata": {},
   "outputs": [],
   "source": [
    "# gold = pd.DataFrame(fdr.DataReader('ZG', '2010-07-18'))\n",
    "# nasdaq = pd.DataFrame(fdr.DataReader('IXIC', '2010-07-18'))\n",
    "# us10yt = pd.DataFrame(fdr.DataReader('US10YT=X', '2010-07-18'))\n",
    "# vix = pd.DataFrame(fdr.DataReader('VIX', '2010-07-18'))"
   ]
  },
  {
   "cell_type": "code",
   "execution_count": 64,
   "metadata": {},
   "outputs": [],
   "source": [
    "list = ['ZG', 'IXIC', 'VIX'] # 'US10YT=X', \n",
    "for name in list:\n",
    "    df = pd.DataFrame(fdr.DataReader(name, '2010-07-18'))\n",
    "#     df = df[['Close', 'Open', 'High', 'Low', 'Volume']]\n",
    "    df.to_csv('./data/'+name+'.csv')\n",
    "\n",
    "US10YT = pd.DataFrame(fdr.DataReader('US10YT=X', '2010-07-18'))\n",
    "\n",
    "US10YT.to_csv('./data/US10YT.csv')"
   ]
  },
  {
   "cell_type": "code",
   "execution_count": 41,
   "metadata": {},
   "outputs": [],
   "source": [
    "Y = np.where(btc['Close'].shift(-1) > btc['Open'].shift(-1), 1, -1)"
   ]
  },
  {
   "cell_type": "code",
   "execution_count": 42,
   "metadata": {},
   "outputs": [
    {
     "data": {
      "text/plain": [
       "array([ 1, -1, -1, ...,  1, -1, -1])"
      ]
     },
     "execution_count": 42,
     "metadata": {},
     "output_type": "execute_result"
    }
   ],
   "source": [
    "Y"
   ]
  },
  {
   "cell_type": "code",
   "execution_count": 34,
   "metadata": {},
   "outputs": [],
   "source": [
    "btc['target'] = np.where(btc['Change'] > 0 , 1, -1)"
   ]
  },
  {
   "cell_type": "code",
   "execution_count": 35,
   "metadata": {},
   "outputs": [
    {
     "data": {
      "text/html": [
       "<div>\n",
       "<style scoped>\n",
       "    .dataframe tbody tr th:only-of-type {\n",
       "        vertical-align: middle;\n",
       "    }\n",
       "\n",
       "    .dataframe tbody tr th {\n",
       "        vertical-align: top;\n",
       "    }\n",
       "\n",
       "    .dataframe thead th {\n",
       "        text-align: right;\n",
       "    }\n",
       "</style>\n",
       "<table border=\"1\" class=\"dataframe\">\n",
       "  <thead>\n",
       "    <tr style=\"text-align: right;\">\n",
       "      <th></th>\n",
       "      <th>Close</th>\n",
       "      <th>Open</th>\n",
       "      <th>High</th>\n",
       "      <th>Low</th>\n",
       "      <th>Volume</th>\n",
       "      <th>Change</th>\n",
       "      <th>target</th>\n",
       "    </tr>\n",
       "    <tr>\n",
       "      <th>Date</th>\n",
       "      <th></th>\n",
       "      <th></th>\n",
       "      <th></th>\n",
       "      <th></th>\n",
       "      <th></th>\n",
       "      <th></th>\n",
       "      <th></th>\n",
       "    </tr>\n",
       "  </thead>\n",
       "  <tbody>\n",
       "    <tr>\n",
       "      <th>2012-04-13</th>\n",
       "      <td>4.9</td>\n",
       "      <td>4.9</td>\n",
       "      <td>4.9</td>\n",
       "      <td>4.7</td>\n",
       "      <td>93110.0</td>\n",
       "      <td>0.0000</td>\n",
       "      <td>-1</td>\n",
       "    </tr>\n",
       "    <tr>\n",
       "      <th>2012-04-14</th>\n",
       "      <td>5.0</td>\n",
       "      <td>4.9</td>\n",
       "      <td>5.0</td>\n",
       "      <td>4.9</td>\n",
       "      <td>63890.0</td>\n",
       "      <td>0.0000</td>\n",
       "      <td>-1</td>\n",
       "    </tr>\n",
       "    <tr>\n",
       "      <th>2012-04-15</th>\n",
       "      <td>5.0</td>\n",
       "      <td>5.0</td>\n",
       "      <td>5.0</td>\n",
       "      <td>4.9</td>\n",
       "      <td>33340.0</td>\n",
       "      <td>0.0000</td>\n",
       "      <td>-1</td>\n",
       "    </tr>\n",
       "    <tr>\n",
       "      <th>2012-04-16</th>\n",
       "      <td>4.9</td>\n",
       "      <td>5.0</td>\n",
       "      <td>5.0</td>\n",
       "      <td>4.9</td>\n",
       "      <td>31160.0</td>\n",
       "      <td>0.0000</td>\n",
       "      <td>-1</td>\n",
       "    </tr>\n",
       "    <tr>\n",
       "      <th>2012-04-17</th>\n",
       "      <td>5.0</td>\n",
       "      <td>4.9</td>\n",
       "      <td>5.0</td>\n",
       "      <td>4.9</td>\n",
       "      <td>30650.0</td>\n",
       "      <td>0.0101</td>\n",
       "      <td>1</td>\n",
       "    </tr>\n",
       "  </tbody>\n",
       "</table>\n",
       "</div>"
      ],
      "text/plain": [
       "            Close  Open  High  Low   Volume  Change  target\n",
       "Date                                                       \n",
       "2012-04-13    4.9   4.9   4.9  4.7  93110.0  0.0000      -1\n",
       "2012-04-14    5.0   4.9   5.0  4.9  63890.0  0.0000      -1\n",
       "2012-04-15    5.0   5.0   5.0  4.9  33340.0  0.0000      -1\n",
       "2012-04-16    4.9   5.0   5.0  4.9  31160.0  0.0000      -1\n",
       "2012-04-17    5.0   4.9   5.0  4.9  30650.0  0.0101       1"
      ]
     },
     "execution_count": 35,
     "metadata": {},
     "output_type": "execute_result"
    }
   ],
   "source": [
    "btc.head()"
   ]
  },
  {
   "cell_type": "code",
   "execution_count": 36,
   "metadata": {},
   "outputs": [
    {
     "data": {
      "text/html": [
       "<div>\n",
       "<style scoped>\n",
       "    .dataframe tbody tr th:only-of-type {\n",
       "        vertical-align: middle;\n",
       "    }\n",
       "\n",
       "    .dataframe tbody tr th {\n",
       "        vertical-align: top;\n",
       "    }\n",
       "\n",
       "    .dataframe thead th {\n",
       "        text-align: right;\n",
       "    }\n",
       "</style>\n",
       "<table border=\"1\" class=\"dataframe\">\n",
       "  <thead>\n",
       "    <tr style=\"text-align: right;\">\n",
       "      <th></th>\n",
       "      <th>Close</th>\n",
       "      <th>Open</th>\n",
       "      <th>High</th>\n",
       "      <th>Low</th>\n",
       "      <th>Volume</th>\n",
       "      <th>Change</th>\n",
       "      <th>target</th>\n",
       "    </tr>\n",
       "    <tr>\n",
       "      <th>Date</th>\n",
       "      <th></th>\n",
       "      <th></th>\n",
       "      <th></th>\n",
       "      <th></th>\n",
       "      <th></th>\n",
       "      <th></th>\n",
       "      <th></th>\n",
       "    </tr>\n",
       "  </thead>\n",
       "  <tbody>\n",
       "    <tr>\n",
       "      <th>2022-04-09</th>\n",
       "      <td>42767.0</td>\n",
       "      <td>42275.0</td>\n",
       "      <td>42809.0</td>\n",
       "      <td>42129.0</td>\n",
       "      <td>165160000.0</td>\n",
       "      <td>0.0116</td>\n",
       "      <td>1</td>\n",
       "    </tr>\n",
       "    <tr>\n",
       "      <th>2022-04-10</th>\n",
       "      <td>42138.0</td>\n",
       "      <td>42760.0</td>\n",
       "      <td>43421.0</td>\n",
       "      <td>41884.0</td>\n",
       "      <td>255830000.0</td>\n",
       "      <td>-0.0147</td>\n",
       "      <td>-1</td>\n",
       "    </tr>\n",
       "    <tr>\n",
       "      <th>2022-04-11</th>\n",
       "      <td>39497.0</td>\n",
       "      <td>42144.0</td>\n",
       "      <td>42418.0</td>\n",
       "      <td>39202.0</td>\n",
       "      <td>608380000.0</td>\n",
       "      <td>-0.0627</td>\n",
       "      <td>-1</td>\n",
       "    </tr>\n",
       "    <tr>\n",
       "      <th>2022-04-12</th>\n",
       "      <td>40078.0</td>\n",
       "      <td>39507.0</td>\n",
       "      <td>40678.0</td>\n",
       "      <td>39265.0</td>\n",
       "      <td>468270000.0</td>\n",
       "      <td>0.0147</td>\n",
       "      <td>1</td>\n",
       "    </tr>\n",
       "    <tr>\n",
       "      <th>2022-04-13</th>\n",
       "      <td>39902.0</td>\n",
       "      <td>40072.0</td>\n",
       "      <td>40267.0</td>\n",
       "      <td>39581.0</td>\n",
       "      <td>409870000.0</td>\n",
       "      <td>-0.0044</td>\n",
       "      <td>-1</td>\n",
       "    </tr>\n",
       "  </tbody>\n",
       "</table>\n",
       "</div>"
      ],
      "text/plain": [
       "              Close     Open     High      Low       Volume  Change  target\n",
       "Date                                                                       \n",
       "2022-04-09  42767.0  42275.0  42809.0  42129.0  165160000.0  0.0116       1\n",
       "2022-04-10  42138.0  42760.0  43421.0  41884.0  255830000.0 -0.0147      -1\n",
       "2022-04-11  39497.0  42144.0  42418.0  39202.0  608380000.0 -0.0627      -1\n",
       "2022-04-12  40078.0  39507.0  40678.0  39265.0  468270000.0  0.0147       1\n",
       "2022-04-13  39902.0  40072.0  40267.0  39581.0  409870000.0 -0.0044      -1"
      ]
     },
     "execution_count": 36,
     "metadata": {},
     "output_type": "execute_result"
    }
   ],
   "source": [
    "btc.tail()"
   ]
  },
  {
   "cell_type": "code",
   "execution_count": 15,
   "metadata": {},
   "outputs": [
    {
     "data": {
      "text/plain": [
       "Close  Open   High   Low    Volume  Change  target\n",
       "False  False  False  False  False   False   False     4282\n",
       "dtype: int64"
      ]
     },
     "execution_count": 15,
     "metadata": {},
     "output_type": "execute_result"
    }
   ],
   "source": [
    "btc.isna().value_counts()"
   ]
  },
  {
   "cell_type": "code",
   "execution_count": null,
   "metadata": {},
   "outputs": [],
   "source": []
  }
 ],
 "metadata": {
  "kernelspec": {
   "display_name": "trader",
   "language": "python",
   "name": "trader"
  },
  "language_info": {
   "codemirror_mode": {
    "name": "ipython",
    "version": 3
   },
   "file_extension": ".py",
   "mimetype": "text/x-python",
   "name": "python",
   "nbconvert_exporter": "python",
   "pygments_lexer": "ipython3",
   "version": "3.8.13"
  }
 },
 "nbformat": 4,
 "nbformat_minor": 4
}
