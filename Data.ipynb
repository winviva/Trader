{
 "cells": [
  {
   "cell_type": "code",
   "execution_count": 1,
   "metadata": {},
   "outputs": [],
   "source": [
    "from binance.client import Client\n",
    "import re\n",
    "import pandas as pd\n",
    "from datetime import datetime "
   ]
  },
  {
   "cell_type": "code",
   "execution_count": 2,
   "metadata": {},
   "outputs": [],
   "source": [
    "client = Client()\n",
    "all_tickers = client.futures_symbol_ticker()\n",
    "symbols = [x['symbol'] for x in all_tickers]\n",
    "symbols = [symbol for symbol in symbols if symbol.endswith('USDT')]"
   ]
  },
  {
   "cell_type": "code",
   "execution_count": 3,
   "metadata": {},
   "outputs": [
    {
     "name": "stdout",
     "output_type": "stream",
     "text": [
      "141\n",
      "['IOTXUSDT', 'XLMUSDT', 'OMGUSDT', 'BALUSDT', 'XTZUSDT', 'ARUSDT', 'DENTUSDT', 'GALAUSDT', 'ONTUSDT', 'ANTUSDT', 'BNBUSDT', 'DODOUSDT', 'DEFIUSDT', 'ATOMUSDT', 'CRVUSDT', 'RAYUSDT', 'COTIUSDT', 'ALPHAUSDT', 'AXSUSDT', 'ATAUSDT', 'KNCUSDT', 'RENUSDT', 'C98USDT', 'DASHUSDT', 'KLAYUSDT', 'ZECUSDT', 'STMXUSDT', 'CHRUSDT', 'RLCUSDT', 'IOSTUSDT', 'GMTUSDT', 'RUNEUSDT', '1INCHUSDT', 'CELOUSDT', 'AAVEUSDT', 'ANKRUSDT', 'CTSIUSDT', 'CVCUSDT', 'XMRUSDT', 'PEOPLEUSDT', 'ARPAUSDT', 'LTCUSDT', 'FILUSDT', 'REEFUSDT', 'BCHUSDT', 'CTKUSDT', 'ROSEUSDT', 'ONEUSDT', 'TOMOUSDT', 'ANCUSDT', 'FLOWUSDT', 'NEARUSDT', 'AKROUSDT', 'BTCUSDT', 'KAVAUSDT', 'LUNAUSDT', 'FTMUSDT', 'SCUSDT', 'DYDXUSDT', 'SXPUSDT', 'HBARUSDT', 'ZRXUSDT', 'ENSUSDT', 'SOLUSDT', '1000XECUSDT', 'XRPUSDT', 'BELUSDT', 'ADAUSDT', 'FLMUSDT', 'SKLUSDT', 'OCEANUSDT', 'ICPUSDT', 'ALICEUSDT', 'DOGEUSDT', 'DUSKUSDT', 'CHZUSDT', 'VETUSDT', 'BLZUSDT', 'MASKUSDT', 'RVNUSDT', 'SUSHIUSDT', 'APEUSDT', 'ICXUSDT', 'STORJUSDT', 'ENJUSDT', 'HNTUSDT', 'DGBUSDT', 'LINAUSDT', 'IOTAUSDT', 'NEOUSDT', 'LPTUSDT', 'ALGOUSDT', 'UNIUSDT', 'TRBUSDT', 'MTLUSDT', 'WOOUSDT', 'EGLDUSDT', 'TRXUSDT', 'NKNUSDT', 'RSRUSDT', 'DOTUSDT', 'AUDIOUSDT', 'BANDUSDT', 'ZILUSDT', 'LITUSDT', 'BAKEUSDT', 'LINKUSDT', 'WAVESUSDT', 'BATUSDT', 'YFIUSDT', 'BNXUSDT', 'AVAXUSDT', 'GTCUSDT', 'MANAUSDT', 'ETCUSDT', 'UNFIUSDT', 'MKRUSDT', 'COMPUSDT', 'XEMUSDT', 'ETHUSDT', 'SANDUSDT', 'IMXUSDT', 'GRTUSDT', 'QTUMUSDT', 'OGNUSDT', 'KSMUSDT', 'BTCDOMUSDT', 'CELRUSDT', 'BTSUSDT', 'ZENUSDT', 'LRCUSDT', 'THETAUSDT', '1000SHIBUSDT', 'EOSUSDT', 'SRMUSDT', 'HOTUSDT', 'API3USDT', 'TLMUSDT', 'MATICUSDT', 'SNXUSDT', 'SFPUSDT']\n"
     ]
    }
   ],
   "source": [
    "print(len(symbols))\n",
    "print(symbols)"
   ]
  },
  {
   "cell_type": "code",
   "execution_count": 4,
   "metadata": {},
   "outputs": [
    {
     "data": {
      "text/html": [
       "<div>\n",
       "<style scoped>\n",
       "    .dataframe tbody tr th:only-of-type {\n",
       "        vertical-align: middle;\n",
       "    }\n",
       "\n",
       "    .dataframe tbody tr th {\n",
       "        vertical-align: top;\n",
       "    }\n",
       "\n",
       "    .dataframe thead th {\n",
       "        text-align: right;\n",
       "    }\n",
       "</style>\n",
       "<table border=\"1\" class=\"dataframe\">\n",
       "  <thead>\n",
       "    <tr style=\"text-align: right;\">\n",
       "      <th></th>\n",
       "      <th>0</th>\n",
       "      <th>1</th>\n",
       "      <th>2</th>\n",
       "      <th>3</th>\n",
       "      <th>4</th>\n",
       "      <th>5</th>\n",
       "      <th>6</th>\n",
       "      <th>7</th>\n",
       "      <th>8</th>\n",
       "      <th>9</th>\n",
       "      <th>10</th>\n",
       "      <th>11</th>\n",
       "    </tr>\n",
       "  </thead>\n",
       "  <tbody>\n",
       "    <tr>\n",
       "      <th>0</th>\n",
       "      <td>1628726400000</td>\n",
       "      <td>0.13700</td>\n",
       "      <td>0.14403</td>\n",
       "      <td>0.10159</td>\n",
       "      <td>0.11128</td>\n",
       "      <td>2832815786</td>\n",
       "      <td>1628812799999</td>\n",
       "      <td>334234515.61961</td>\n",
       "      <td>1077142</td>\n",
       "      <td>1454437406</td>\n",
       "      <td>171902995.61131</td>\n",
       "      <td>0</td>\n",
       "    </tr>\n",
       "    <tr>\n",
       "      <th>1</th>\n",
       "      <td>1628812800000</td>\n",
       "      <td>0.11132</td>\n",
       "      <td>0.11553</td>\n",
       "      <td>0.09710</td>\n",
       "      <td>0.09935</td>\n",
       "      <td>2359730649</td>\n",
       "      <td>1628899199999</td>\n",
       "      <td>248921486.93655</td>\n",
       "      <td>772867</td>\n",
       "      <td>1086956815</td>\n",
       "      <td>114857326.78228</td>\n",
       "      <td>0</td>\n",
       "    </tr>\n",
       "    <tr>\n",
       "      <th>2</th>\n",
       "      <td>1628899200000</td>\n",
       "      <td>0.09935</td>\n",
       "      <td>0.10440</td>\n",
       "      <td>0.08905</td>\n",
       "      <td>0.09194</td>\n",
       "      <td>1646924471</td>\n",
       "      <td>1628985599999</td>\n",
       "      <td>155824184.51159</td>\n",
       "      <td>423444</td>\n",
       "      <td>724504082</td>\n",
       "      <td>68534356.35115</td>\n",
       "      <td>0</td>\n",
       "    </tr>\n",
       "    <tr>\n",
       "      <th>3</th>\n",
       "      <td>1628985600000</td>\n",
       "      <td>0.09194</td>\n",
       "      <td>0.09319</td>\n",
       "      <td>0.08130</td>\n",
       "      <td>0.08614</td>\n",
       "      <td>1602588883</td>\n",
       "      <td>1629071999999</td>\n",
       "      <td>138207808.21243</td>\n",
       "      <td>359016</td>\n",
       "      <td>717543664</td>\n",
       "      <td>61829108.00270</td>\n",
       "      <td>0</td>\n",
       "    </tr>\n",
       "    <tr>\n",
       "      <th>4</th>\n",
       "      <td>1629072000000</td>\n",
       "      <td>0.08614</td>\n",
       "      <td>0.10292</td>\n",
       "      <td>0.08389</td>\n",
       "      <td>0.08707</td>\n",
       "      <td>2633338320</td>\n",
       "      <td>1629158399999</td>\n",
       "      <td>245688998.30178</td>\n",
       "      <td>598438</td>\n",
       "      <td>1223159198</td>\n",
       "      <td>114311724.81501</td>\n",
       "      <td>0</td>\n",
       "    </tr>\n",
       "  </tbody>\n",
       "</table>\n",
       "</div>"
      ],
      "text/plain": [
       "              0        1        2        3        4           5   \\\n",
       "0  1628726400000  0.13700  0.14403  0.10159  0.11128  2832815786   \n",
       "1  1628812800000  0.11132  0.11553  0.09710  0.09935  2359730649   \n",
       "2  1628899200000  0.09935  0.10440  0.08905  0.09194  1646924471   \n",
       "3  1628985600000  0.09194  0.09319  0.08130  0.08614  1602588883   \n",
       "4  1629072000000  0.08614  0.10292  0.08389  0.08707  2633338320   \n",
       "\n",
       "              6                7        8           9                10 11  \n",
       "0  1628812799999  334234515.61961  1077142  1454437406  171902995.61131  0  \n",
       "1  1628899199999  248921486.93655   772867  1086956815  114857326.78228  0  \n",
       "2  1628985599999  155824184.51159   423444   724504082   68534356.35115  0  \n",
       "3  1629071999999  138207808.21243   359016   717543664   61829108.00270  0  \n",
       "4  1629158399999  245688998.30178   598438  1223159198  114311724.81501  0  "
      ]
     },
     "execution_count": 4,
     "metadata": {},
     "output_type": "execute_result"
    }
   ],
   "source": [
    "df = pd.DataFrame(client.futures_klines(symbol=symbols[0], interval='1d', limit=1500))\n",
    "df.head()"
   ]
  },
  {
   "cell_type": "code",
   "execution_count": 5,
   "metadata": {},
   "outputs": [],
   "source": [
    "columns = ['time', 'open', 'high', 'low', 'close', 'volume']\n",
    "FOUR_HOURS ='4h'\n",
    "ONE_DAY = '1d'"
   ]
  },
  {
   "cell_type": "code",
   "execution_count": 7,
   "metadata": {},
   "outputs": [],
   "source": [
    "for symbol in symbols:\n",
    "    df = pd.DataFrame(client.futures_klines(symbol=symbol, interval=FOUR_HOURS))\n",
    "    df2 = pd.DataFrame(client.futures_klines(symbol=symbol, interval=ONE_DAY))\n",
    "    df = df.iloc[:, 0:6]\n",
    "    df.columns = columns\n",
    "    df['time'] = pd.to_datetime(df['time'], unit='ms')\n",
    "    df2 = df2.iloc[:, 0:6]\n",
    "    df2.columns = columns\n",
    "    df2['time'] = pd.to_datetime(df2['time'], unit='ms')\n",
    "    df.to_csv('./data/'+symbol+FOUR_HOURS+'.csv')\n",
    "    df2.to_csv('./data/'+symbol+ONE_DAY+'.csv')"
   ]
  },
  {
   "cell_type": "code",
   "execution_count": null,
   "metadata": {},
   "outputs": [],
   "source": []
  }
 ],
 "metadata": {
  "kernelspec": {
   "display_name": "trader",
   "language": "python",
   "name": "trader"
  },
  "language_info": {
   "codemirror_mode": {
    "name": "ipython",
    "version": 3
   },
   "file_extension": ".py",
   "mimetype": "text/x-python",
   "name": "python",
   "nbconvert_exporter": "python",
   "pygments_lexer": "ipython3",
   "version": "3.8.13"
  }
 },
 "nbformat": 4,
 "nbformat_minor": 4
}
