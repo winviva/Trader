{
 "cells": [
  {
   "cell_type": "code",
   "execution_count": 72,
   "metadata": {},
   "outputs": [],
   "source": [
    "import warnings\n",
    "warnings.filterwarnings('ignore')\n",
    "import glob\n",
    "import os\n",
    "import datetime\n",
    "import matplotlib.pyplot as plt\n",
    "import mplfinance\n",
    "import pandas as pd\n",
    "import numpy as np\n",
    "\n",
    "from sklearn import preprocessing\n",
    "from sklearn.preprocessing import StandardScaler\n",
    "from sklearn.model_selection import train_test_split\n",
    "from sklearn.model_selection import cross_validate\n",
    "from sklearn.model_selection import TimeSeriesSplit\n",
    "from sklearn.model_selection import GridSearchCV\n",
    "from sklearn.model_selection import KFold\n",
    "from sklearn.linear_model import LinearRegression\n",
    "from sklearn.ensemble import RandomForestClassifier\n",
    "from sklearn.ensemble import ExtraTreesClassifier\n",
    "from sklearn.ensemble import GradientBoostingClassifier\n",
    "from sklearn.ensemble import HistGradientBoostingClassifier\n",
    "from xgboost import XGBClassifier\n",
    "from xgboost import plot_importance\n",
    "from lightgbm import LGBMClassifier\n",
    "from sklearn.metrics import precision_score, recall_score, confusion_matrix, roc_auc_score\n",
    "from sklearn.metrics import f1_score\n",
    "from sklearn.metrics import mean_squared_error, r2_score\n",
    "from sklearn.metrics import accuracy_score\n",
    "from sklearn import svm\n",
    "\n",
    "import seaborn as sns; sns.set()"
   ]
  },
  {
   "cell_type": "code",
   "execution_count": 3,
   "metadata": {},
   "outputs": [],
   "source": [
    "BTC = pd.read_csv('./data/BTC.csv', parse_dates=['Date'], index_col = 'Date')\n",
    "GOLD = pd.read_csv('./data/ZG.csv', parse_dates=['Date'], index_col = 'Date')\n",
    "NDAQ = pd.read_csv('./data/IXIC.csv', parse_dates=['Date'], index_col = 'Date')\n",
    "US10YT = pd.read_csv('./data/US10YT.csv', parse_dates=['Date'], index_col = 'Date')\n",
    "VIX = pd.read_csv('./data/VIX.csv', parse_dates=['Date'], index_col = 'Date')"
   ]
  },
  {
   "cell_type": "code",
   "execution_count": 4,
   "metadata": {
    "scrolled": true
   },
   "outputs": [],
   "source": [
    "# t1 = BTC.merge(GOLD, left_index=True,\n",
    "#               right_index=True, how = 'outer',\n",
    "#               suffixes=('_BTC', '_GLD'))\n",
    "# list_df = ['NDAQ', 'US10YT', 'VIX']\n",
    "# for x in list_df:\n",
    "#     t1 = t1.merge(globals()[x].add_suffix('_'+str(x)),\n",
    "#                  left_index=True, right_index=True,\n",
    "#                  how='outer')"
   ]
  },
  {
   "cell_type": "code",
   "execution_count": 5,
   "metadata": {},
   "outputs": [],
   "source": [
    "t1 = BTC.merge(GOLD, on='Date', how='left', suffixes=('_BTC', '_GLD'))"
   ]
  },
  {
   "cell_type": "code",
   "execution_count": 6,
   "metadata": {},
   "outputs": [
    {
     "name": "stdout",
     "output_type": "stream",
     "text": [
      "<class 'pandas.core.frame.DataFrame'>\n",
      "DatetimeIndex: 3654 entries, 2012-04-13 to 2022-04-14\n",
      "Data columns (total 29 columns):\n",
      " #   Column         Non-Null Count  Dtype  \n",
      "---  ------         --------------  -----  \n",
      " 0   Close_BTC      3654 non-null   float64\n",
      " 1   Open_BTC       3654 non-null   float64\n",
      " 2   High_BTC       3654 non-null   float64\n",
      " 3   Low_BTC        3654 non-null   float64\n",
      " 4   Volume_BTC     3654 non-null   float64\n",
      " 5   Change_BTC     3654 non-null   float64\n",
      " 6   Close_GLD      2141 non-null   float64\n",
      " 7   Open_GLD       2141 non-null   float64\n",
      " 8   High_GLD       2141 non-null   float64\n",
      " 9   Low_GLD        2141 non-null   float64\n",
      " 10  Volume_GLD     2141 non-null   float64\n",
      " 11  Change_GLD     2141 non-null   float64\n",
      " 12  Close_NDAQ     2518 non-null   float64\n",
      " 13  Open_NDAQ      2518 non-null   float64\n",
      " 14  High_NDAQ      2518 non-null   float64\n",
      " 15  Low_NDAQ       2518 non-null   float64\n",
      " 16  Volume_NDAQ    2518 non-null   float64\n",
      " 17  Change_NDAQ    2518 non-null   float64\n",
      " 18  Close_US10YT   3010 non-null   float64\n",
      " 19  Open_US10YT    3010 non-null   float64\n",
      " 20  High_US10YT    3010 non-null   float64\n",
      " 21  Low_US10YT     3010 non-null   float64\n",
      " 22  Change_US10YT  3010 non-null   float64\n",
      " 23  Close_VIX      2526 non-null   float64\n",
      " 24  Open_VIX       2526 non-null   float64\n",
      " 25  High_VIX       2526 non-null   float64\n",
      " 26  Low_VIX        2526 non-null   float64\n",
      " 27  Volume_VIX     2526 non-null   float64\n",
      " 28  Change_VIX     2526 non-null   float64\n",
      "dtypes: float64(29)\n",
      "memory usage: 856.4 KB\n"
     ]
    }
   ],
   "source": [
    "t1 = BTC.merge(GOLD, on='Date', how='left', suffixes=('_BTC', '_GLD'))\n",
    "list_df = ['NDAQ', 'US10YT', 'VIX']\n",
    "for x in list_df:\n",
    "    t1 = t1.merge(globals()[x].add_suffix('_'+str(x)),\n",
    "                 on='Date', how='left')\n",
    "t1.info()"
   ]
  },
  {
   "cell_type": "code",
   "execution_count": 7,
   "metadata": {},
   "outputs": [
    {
     "data": {
      "text/plain": [
       "Close_BTC           0\n",
       "Open_BTC            0\n",
       "High_BTC            0\n",
       "Low_BTC             0\n",
       "Volume_BTC          0\n",
       "Change_BTC          0\n",
       "Close_GLD        1513\n",
       "Open_GLD         1513\n",
       "High_GLD         1513\n",
       "Low_GLD          1513\n",
       "Volume_GLD       1513\n",
       "Change_GLD       1513\n",
       "Close_NDAQ       1136\n",
       "Open_NDAQ        1136\n",
       "High_NDAQ        1136\n",
       "Low_NDAQ         1136\n",
       "Volume_NDAQ      1136\n",
       "Change_NDAQ      1136\n",
       "Close_US10YT      644\n",
       "Open_US10YT       644\n",
       "High_US10YT       644\n",
       "Low_US10YT        644\n",
       "Change_US10YT     644\n",
       "Close_VIX        1128\n",
       "Open_VIX         1128\n",
       "High_VIX         1128\n",
       "Low_VIX          1128\n",
       "Volume_VIX       1128\n",
       "Change_VIX       1128\n",
       "dtype: int64"
      ]
     },
     "execution_count": 7,
     "metadata": {},
     "output_type": "execute_result"
    }
   ],
   "source": [
    "t1.isna().sum()"
   ]
  },
  {
   "cell_type": "code",
   "execution_count": 8,
   "metadata": {},
   "outputs": [],
   "source": [
    "# 휴일장의 Change, Volume 값을 0으로 만들어야함\n",
    "# 미국10년 국채엔 Volume 컬럼 없음\n",
    "t1.Volume_GLD.fillna(0, inplace=True)\n",
    "t1.Change_GLD.fillna(0, inplace=True)\n",
    "t1.Volume_NDAQ.fillna(0, inplace=True)\n",
    "t1.Change_NDAQ.fillna(0, inplace=True)\n",
    "t1.Change_US10YT.fillna(0, inplace=True)\n",
    "t1.Volume_VIX.fillna(0, inplace=True)\n",
    "t1.Change_VIX.fillna(0, inplace=True)\n",
    "    "
   ]
  },
  {
   "cell_type": "code",
   "execution_count": 9,
   "metadata": {
    "scrolled": true
   },
   "outputs": [
    {
     "data": {
      "text/plain": [
       "Close_BTC        0\n",
       "Open_BTC         0\n",
       "High_BTC         0\n",
       "Low_BTC          0\n",
       "Volume_BTC       0\n",
       "Change_BTC       0\n",
       "Close_GLD        0\n",
       "Open_GLD         0\n",
       "High_GLD         0\n",
       "Low_GLD          0\n",
       "Volume_GLD       0\n",
       "Change_GLD       0\n",
       "Close_NDAQ       0\n",
       "Open_NDAQ        0\n",
       "High_NDAQ        0\n",
       "Low_NDAQ         0\n",
       "Volume_NDAQ      0\n",
       "Change_NDAQ      0\n",
       "Close_US10YT     0\n",
       "Open_US10YT      0\n",
       "High_US10YT      0\n",
       "Low_US10YT       0\n",
       "Change_US10YT    0\n",
       "Close_VIX        0\n",
       "Open_VIX         0\n",
       "High_VIX         0\n",
       "Low_VIX          0\n",
       "Volume_VIX       0\n",
       "Change_VIX       0\n",
       "dtype: int64"
      ]
     },
     "execution_count": 9,
     "metadata": {},
     "output_type": "execute_result"
    }
   ],
   "source": [
    "# df = t1.dropna()\n",
    "# df = t1.fillna(method='ffill')\n",
    "# df = t1.fillna(method='bfill')\n",
    "df = t1.fillna(0)\n",
    "df.dropna(inplace=True)\n",
    "df.isna().sum()"
   ]
  },
  {
   "cell_type": "code",
   "execution_count": 10,
   "metadata": {},
   "outputs": [
    {
     "data": {
      "text/html": [
       "<div>\n",
       "<style scoped>\n",
       "    .dataframe tbody tr th:only-of-type {\n",
       "        vertical-align: middle;\n",
       "    }\n",
       "\n",
       "    .dataframe tbody tr th {\n",
       "        vertical-align: top;\n",
       "    }\n",
       "\n",
       "    .dataframe thead th {\n",
       "        text-align: right;\n",
       "    }\n",
       "</style>\n",
       "<table border=\"1\" class=\"dataframe\">\n",
       "  <thead>\n",
       "    <tr style=\"text-align: right;\">\n",
       "      <th></th>\n",
       "      <th>Close_GLD</th>\n",
       "      <th>Open_GLD</th>\n",
       "      <th>High_GLD</th>\n",
       "      <th>Low_GLD</th>\n",
       "      <th>Volume_GLD</th>\n",
       "      <th>Change_GLD</th>\n",
       "    </tr>\n",
       "    <tr>\n",
       "      <th>Date</th>\n",
       "      <th></th>\n",
       "      <th></th>\n",
       "      <th></th>\n",
       "      <th></th>\n",
       "      <th></th>\n",
       "      <th></th>\n",
       "    </tr>\n",
       "  </thead>\n",
       "  <tbody>\n",
       "    <tr>\n",
       "      <th>2020-12-01</th>\n",
       "      <td>0.0</td>\n",
       "      <td>0.0</td>\n",
       "      <td>0.0</td>\n",
       "      <td>0.0</td>\n",
       "      <td>0.0</td>\n",
       "      <td>0.0000</td>\n",
       "    </tr>\n",
       "    <tr>\n",
       "      <th>2020-12-02</th>\n",
       "      <td>0.0</td>\n",
       "      <td>0.0</td>\n",
       "      <td>0.0</td>\n",
       "      <td>0.0</td>\n",
       "      <td>0.0</td>\n",
       "      <td>0.0000</td>\n",
       "    </tr>\n",
       "    <tr>\n",
       "      <th>2020-12-03</th>\n",
       "      <td>1858.0</td>\n",
       "      <td>1859.6</td>\n",
       "      <td>1862.3</td>\n",
       "      <td>1858.8</td>\n",
       "      <td>10.0</td>\n",
       "      <td>0.0057</td>\n",
       "    </tr>\n",
       "    <tr>\n",
       "      <th>2020-12-04</th>\n",
       "      <td>0.0</td>\n",
       "      <td>0.0</td>\n",
       "      <td>0.0</td>\n",
       "      <td>0.0</td>\n",
       "      <td>0.0</td>\n",
       "      <td>0.0000</td>\n",
       "    </tr>\n",
       "    <tr>\n",
       "      <th>2020-12-05</th>\n",
       "      <td>0.0</td>\n",
       "      <td>0.0</td>\n",
       "      <td>0.0</td>\n",
       "      <td>0.0</td>\n",
       "      <td>0.0</td>\n",
       "      <td>0.0000</td>\n",
       "    </tr>\n",
       "    <tr>\n",
       "      <th>2020-12-06</th>\n",
       "      <td>0.0</td>\n",
       "      <td>0.0</td>\n",
       "      <td>0.0</td>\n",
       "      <td>0.0</td>\n",
       "      <td>0.0</td>\n",
       "      <td>0.0000</td>\n",
       "    </tr>\n",
       "    <tr>\n",
       "      <th>2020-12-07</th>\n",
       "      <td>0.0</td>\n",
       "      <td>0.0</td>\n",
       "      <td>0.0</td>\n",
       "      <td>0.0</td>\n",
       "      <td>0.0</td>\n",
       "      <td>0.0000</td>\n",
       "    </tr>\n",
       "    <tr>\n",
       "      <th>2020-12-08</th>\n",
       "      <td>1892.7</td>\n",
       "      <td>1877.0</td>\n",
       "      <td>1886.6</td>\n",
       "      <td>1874.5</td>\n",
       "      <td>200.0</td>\n",
       "      <td>0.0045</td>\n",
       "    </tr>\n",
       "    <tr>\n",
       "      <th>2020-12-09</th>\n",
       "      <td>1856.0</td>\n",
       "      <td>1883.1</td>\n",
       "      <td>1883.1</td>\n",
       "      <td>1844.0</td>\n",
       "      <td>110.0</td>\n",
       "      <td>-0.0194</td>\n",
       "    </tr>\n",
       "    <tr>\n",
       "      <th>2020-12-10</th>\n",
       "      <td>1855.4</td>\n",
       "      <td>1866.3</td>\n",
       "      <td>1866.3</td>\n",
       "      <td>1866.3</td>\n",
       "      <td>10.0</td>\n",
       "      <td>-0.0003</td>\n",
       "    </tr>\n",
       "    <tr>\n",
       "      <th>2020-12-11</th>\n",
       "      <td>1861.6</td>\n",
       "      <td>1848.9</td>\n",
       "      <td>1859.5</td>\n",
       "      <td>1836.6</td>\n",
       "      <td>50.0</td>\n",
       "      <td>0.0033</td>\n",
       "    </tr>\n",
       "    <tr>\n",
       "      <th>2020-12-12</th>\n",
       "      <td>0.0</td>\n",
       "      <td>0.0</td>\n",
       "      <td>0.0</td>\n",
       "      <td>0.0</td>\n",
       "      <td>0.0</td>\n",
       "      <td>0.0000</td>\n",
       "    </tr>\n",
       "    <tr>\n",
       "      <th>2020-12-13</th>\n",
       "      <td>0.0</td>\n",
       "      <td>0.0</td>\n",
       "      <td>0.0</td>\n",
       "      <td>0.0</td>\n",
       "      <td>0.0</td>\n",
       "      <td>0.0000</td>\n",
       "    </tr>\n",
       "    <tr>\n",
       "      <th>2020-12-14</th>\n",
       "      <td>0.0</td>\n",
       "      <td>0.0</td>\n",
       "      <td>0.0</td>\n",
       "      <td>0.0</td>\n",
       "      <td>0.0</td>\n",
       "      <td>0.0000</td>\n",
       "    </tr>\n",
       "    <tr>\n",
       "      <th>2020-12-15</th>\n",
       "      <td>1873.8</td>\n",
       "      <td>1849.0</td>\n",
       "      <td>1871.7</td>\n",
       "      <td>1849.0</td>\n",
       "      <td>10.0</td>\n",
       "      <td>0.0124</td>\n",
       "    </tr>\n",
       "    <tr>\n",
       "      <th>2020-12-16</th>\n",
       "      <td>0.0</td>\n",
       "      <td>0.0</td>\n",
       "      <td>0.0</td>\n",
       "      <td>0.0</td>\n",
       "      <td>0.0</td>\n",
       "      <td>0.0000</td>\n",
       "    </tr>\n",
       "    <tr>\n",
       "      <th>2020-12-17</th>\n",
       "      <td>1907.8</td>\n",
       "      <td>1907.8</td>\n",
       "      <td>1907.9</td>\n",
       "      <td>1904.6</td>\n",
       "      <td>180.0</td>\n",
       "      <td>0.0166</td>\n",
       "    </tr>\n",
       "    <tr>\n",
       "      <th>2020-12-18</th>\n",
       "      <td>1906.8</td>\n",
       "      <td>1902.0</td>\n",
       "      <td>1903.5</td>\n",
       "      <td>1902.0</td>\n",
       "      <td>10.0</td>\n",
       "      <td>-0.0005</td>\n",
       "    </tr>\n",
       "    <tr>\n",
       "      <th>2020-12-19</th>\n",
       "      <td>0.0</td>\n",
       "      <td>0.0</td>\n",
       "      <td>0.0</td>\n",
       "      <td>0.0</td>\n",
       "      <td>0.0</td>\n",
       "      <td>0.0000</td>\n",
       "    </tr>\n",
       "    <tr>\n",
       "      <th>2020-12-20</th>\n",
       "      <td>0.0</td>\n",
       "      <td>0.0</td>\n",
       "      <td>0.0</td>\n",
       "      <td>0.0</td>\n",
       "      <td>0.0</td>\n",
       "      <td>0.0000</td>\n",
       "    </tr>\n",
       "    <tr>\n",
       "      <th>2020-12-21</th>\n",
       "      <td>1901.0</td>\n",
       "      <td>1889.7</td>\n",
       "      <td>1889.7</td>\n",
       "      <td>1889.6</td>\n",
       "      <td>10.0</td>\n",
       "      <td>-0.0030</td>\n",
       "    </tr>\n",
       "    <tr>\n",
       "      <th>2020-12-22</th>\n",
       "      <td>0.0</td>\n",
       "      <td>0.0</td>\n",
       "      <td>0.0</td>\n",
       "      <td>0.0</td>\n",
       "      <td>0.0</td>\n",
       "      <td>0.0000</td>\n",
       "    </tr>\n",
       "    <tr>\n",
       "      <th>2020-12-23</th>\n",
       "      <td>1897.0</td>\n",
       "      <td>1887.6</td>\n",
       "      <td>1897.0</td>\n",
       "      <td>1887.6</td>\n",
       "      <td>10.0</td>\n",
       "      <td>0.0041</td>\n",
       "    </tr>\n",
       "    <tr>\n",
       "      <th>2020-12-24</th>\n",
       "      <td>1902.8</td>\n",
       "      <td>1888.9</td>\n",
       "      <td>1897.0</td>\n",
       "      <td>1886.9</td>\n",
       "      <td>80.0</td>\n",
       "      <td>0.0031</td>\n",
       "    </tr>\n",
       "    <tr>\n",
       "      <th>2020-12-25</th>\n",
       "      <td>0.0</td>\n",
       "      <td>0.0</td>\n",
       "      <td>0.0</td>\n",
       "      <td>0.0</td>\n",
       "      <td>0.0</td>\n",
       "      <td>0.0000</td>\n",
       "    </tr>\n",
       "    <tr>\n",
       "      <th>2020-12-26</th>\n",
       "      <td>0.0</td>\n",
       "      <td>0.0</td>\n",
       "      <td>0.0</td>\n",
       "      <td>0.0</td>\n",
       "      <td>0.0</td>\n",
       "      <td>0.0000</td>\n",
       "    </tr>\n",
       "    <tr>\n",
       "      <th>2020-12-27</th>\n",
       "      <td>0.0</td>\n",
       "      <td>0.0</td>\n",
       "      <td>0.0</td>\n",
       "      <td>0.0</td>\n",
       "      <td>0.0</td>\n",
       "      <td>0.0000</td>\n",
       "    </tr>\n",
       "    <tr>\n",
       "      <th>2020-12-28</th>\n",
       "      <td>1900.4</td>\n",
       "      <td>1900.8</td>\n",
       "      <td>1912.0</td>\n",
       "      <td>1885.8</td>\n",
       "      <td>150.0</td>\n",
       "      <td>-0.0013</td>\n",
       "    </tr>\n",
       "    <tr>\n",
       "      <th>2020-12-29</th>\n",
       "      <td>0.0</td>\n",
       "      <td>0.0</td>\n",
       "      <td>0.0</td>\n",
       "      <td>0.0</td>\n",
       "      <td>0.0</td>\n",
       "      <td>0.0000</td>\n",
       "    </tr>\n",
       "    <tr>\n",
       "      <th>2020-12-30</th>\n",
       "      <td>1914.5</td>\n",
       "      <td>1913.9</td>\n",
       "      <td>1913.9</td>\n",
       "      <td>1913.9</td>\n",
       "      <td>120.0</td>\n",
       "      <td>0.0059</td>\n",
       "    </tr>\n",
       "    <tr>\n",
       "      <th>2020-12-31</th>\n",
       "      <td>0.0</td>\n",
       "      <td>0.0</td>\n",
       "      <td>0.0</td>\n",
       "      <td>0.0</td>\n",
       "      <td>0.0</td>\n",
       "      <td>0.0000</td>\n",
       "    </tr>\n",
       "  </tbody>\n",
       "</table>\n",
       "</div>"
      ],
      "text/plain": [
       "            Close_GLD  Open_GLD  High_GLD  Low_GLD  Volume_GLD  Change_GLD\n",
       "Date                                                                      \n",
       "2020-12-01        0.0       0.0       0.0      0.0         0.0      0.0000\n",
       "2020-12-02        0.0       0.0       0.0      0.0         0.0      0.0000\n",
       "2020-12-03     1858.0    1859.6    1862.3   1858.8        10.0      0.0057\n",
       "2020-12-04        0.0       0.0       0.0      0.0         0.0      0.0000\n",
       "2020-12-05        0.0       0.0       0.0      0.0         0.0      0.0000\n",
       "2020-12-06        0.0       0.0       0.0      0.0         0.0      0.0000\n",
       "2020-12-07        0.0       0.0       0.0      0.0         0.0      0.0000\n",
       "2020-12-08     1892.7    1877.0    1886.6   1874.5       200.0      0.0045\n",
       "2020-12-09     1856.0    1883.1    1883.1   1844.0       110.0     -0.0194\n",
       "2020-12-10     1855.4    1866.3    1866.3   1866.3        10.0     -0.0003\n",
       "2020-12-11     1861.6    1848.9    1859.5   1836.6        50.0      0.0033\n",
       "2020-12-12        0.0       0.0       0.0      0.0         0.0      0.0000\n",
       "2020-12-13        0.0       0.0       0.0      0.0         0.0      0.0000\n",
       "2020-12-14        0.0       0.0       0.0      0.0         0.0      0.0000\n",
       "2020-12-15     1873.8    1849.0    1871.7   1849.0        10.0      0.0124\n",
       "2020-12-16        0.0       0.0       0.0      0.0         0.0      0.0000\n",
       "2020-12-17     1907.8    1907.8    1907.9   1904.6       180.0      0.0166\n",
       "2020-12-18     1906.8    1902.0    1903.5   1902.0        10.0     -0.0005\n",
       "2020-12-19        0.0       0.0       0.0      0.0         0.0      0.0000\n",
       "2020-12-20        0.0       0.0       0.0      0.0         0.0      0.0000\n",
       "2020-12-21     1901.0    1889.7    1889.7   1889.6        10.0     -0.0030\n",
       "2020-12-22        0.0       0.0       0.0      0.0         0.0      0.0000\n",
       "2020-12-23     1897.0    1887.6    1897.0   1887.6        10.0      0.0041\n",
       "2020-12-24     1902.8    1888.9    1897.0   1886.9        80.0      0.0031\n",
       "2020-12-25        0.0       0.0       0.0      0.0         0.0      0.0000\n",
       "2020-12-26        0.0       0.0       0.0      0.0         0.0      0.0000\n",
       "2020-12-27        0.0       0.0       0.0      0.0         0.0      0.0000\n",
       "2020-12-28     1900.4    1900.8    1912.0   1885.8       150.0     -0.0013\n",
       "2020-12-29        0.0       0.0       0.0      0.0         0.0      0.0000\n",
       "2020-12-30     1914.5    1913.9    1913.9   1913.9       120.0      0.0059\n",
       "2020-12-31        0.0       0.0       0.0      0.0         0.0      0.0000"
      ]
     },
     "execution_count": 10,
     "metadata": {},
     "output_type": "execute_result"
    }
   ],
   "source": [
    "# 장이 열리지 않은 날의 가격정보(low, high, open, close)는 남기고 거래량, 변화율은 0으로 데이터프레임에 저장\n",
    "df.loc['2020-12-01':'2020-12-31', 'Close_GLD':'Change_GLD']"
   ]
  },
  {
   "cell_type": "code",
   "execution_count": 11,
   "metadata": {
    "scrolled": true
   },
   "outputs": [
    {
     "data": {
      "text/html": [
       "<div>\n",
       "<style scoped>\n",
       "    .dataframe tbody tr th:only-of-type {\n",
       "        vertical-align: middle;\n",
       "    }\n",
       "\n",
       "    .dataframe tbody tr th {\n",
       "        vertical-align: top;\n",
       "    }\n",
       "\n",
       "    .dataframe thead th {\n",
       "        text-align: right;\n",
       "    }\n",
       "</style>\n",
       "<table border=\"1\" class=\"dataframe\">\n",
       "  <thead>\n",
       "    <tr style=\"text-align: right;\">\n",
       "      <th></th>\n",
       "      <th>Close_BTC</th>\n",
       "      <th>Open_BTC</th>\n",
       "      <th>High_BTC</th>\n",
       "      <th>Low_BTC</th>\n",
       "      <th>Volume_BTC</th>\n",
       "      <th>Change_BTC</th>\n",
       "      <th>Close_GLD</th>\n",
       "      <th>Open_GLD</th>\n",
       "      <th>High_GLD</th>\n",
       "      <th>Low_GLD</th>\n",
       "      <th>...</th>\n",
       "      <th>Open_US10YT</th>\n",
       "      <th>High_US10YT</th>\n",
       "      <th>Low_US10YT</th>\n",
       "      <th>Change_US10YT</th>\n",
       "      <th>Close_VIX</th>\n",
       "      <th>Open_VIX</th>\n",
       "      <th>High_VIX</th>\n",
       "      <th>Low_VIX</th>\n",
       "      <th>Volume_VIX</th>\n",
       "      <th>Change_VIX</th>\n",
       "    </tr>\n",
       "    <tr>\n",
       "      <th>Date</th>\n",
       "      <th></th>\n",
       "      <th></th>\n",
       "      <th></th>\n",
       "      <th></th>\n",
       "      <th></th>\n",
       "      <th></th>\n",
       "      <th></th>\n",
       "      <th></th>\n",
       "      <th></th>\n",
       "      <th></th>\n",
       "      <th></th>\n",
       "      <th></th>\n",
       "      <th></th>\n",
       "      <th></th>\n",
       "      <th></th>\n",
       "      <th></th>\n",
       "      <th></th>\n",
       "      <th></th>\n",
       "      <th></th>\n",
       "      <th></th>\n",
       "      <th></th>\n",
       "    </tr>\n",
       "  </thead>\n",
       "  <tbody>\n",
       "    <tr>\n",
       "      <th>2012-04-13</th>\n",
       "      <td>4.9</td>\n",
       "      <td>4.9</td>\n",
       "      <td>4.9</td>\n",
       "      <td>4.7</td>\n",
       "      <td>93110.0</td>\n",
       "      <td>0.0000</td>\n",
       "      <td>1659.1</td>\n",
       "      <td>1673.3</td>\n",
       "      <td>1674.8</td>\n",
       "      <td>1650.0</td>\n",
       "      <td>...</td>\n",
       "      <td>1.989</td>\n",
       "      <td>1.989</td>\n",
       "      <td>1.989</td>\n",
       "      <td>-0.0326</td>\n",
       "      <td>19.55</td>\n",
       "      <td>17.95</td>\n",
       "      <td>19.62</td>\n",
       "      <td>17.85</td>\n",
       "      <td>0.0</td>\n",
       "      <td>0.1366</td>\n",
       "    </tr>\n",
       "    <tr>\n",
       "      <th>2012-04-14</th>\n",
       "      <td>5.0</td>\n",
       "      <td>4.9</td>\n",
       "      <td>5.0</td>\n",
       "      <td>4.9</td>\n",
       "      <td>63890.0</td>\n",
       "      <td>0.0000</td>\n",
       "      <td>0.0</td>\n",
       "      <td>0.0</td>\n",
       "      <td>0.0</td>\n",
       "      <td>0.0</td>\n",
       "      <td>...</td>\n",
       "      <td>0.000</td>\n",
       "      <td>0.000</td>\n",
       "      <td>0.000</td>\n",
       "      <td>0.0000</td>\n",
       "      <td>0.00</td>\n",
       "      <td>0.00</td>\n",
       "      <td>0.00</td>\n",
       "      <td>0.00</td>\n",
       "      <td>0.0</td>\n",
       "      <td>0.0000</td>\n",
       "    </tr>\n",
       "    <tr>\n",
       "      <th>2012-04-15</th>\n",
       "      <td>5.0</td>\n",
       "      <td>5.0</td>\n",
       "      <td>5.0</td>\n",
       "      <td>4.9</td>\n",
       "      <td>33340.0</td>\n",
       "      <td>0.0000</td>\n",
       "      <td>0.0</td>\n",
       "      <td>0.0</td>\n",
       "      <td>0.0</td>\n",
       "      <td>0.0</td>\n",
       "      <td>...</td>\n",
       "      <td>0.000</td>\n",
       "      <td>0.000</td>\n",
       "      <td>0.000</td>\n",
       "      <td>0.0000</td>\n",
       "      <td>0.00</td>\n",
       "      <td>0.00</td>\n",
       "      <td>0.00</td>\n",
       "      <td>0.00</td>\n",
       "      <td>0.0</td>\n",
       "      <td>0.0000</td>\n",
       "    </tr>\n",
       "    <tr>\n",
       "      <th>2012-04-16</th>\n",
       "      <td>4.9</td>\n",
       "      <td>5.0</td>\n",
       "      <td>5.0</td>\n",
       "      <td>4.9</td>\n",
       "      <td>31160.0</td>\n",
       "      <td>0.0000</td>\n",
       "      <td>1648.7</td>\n",
       "      <td>1650.8</td>\n",
       "      <td>1656.8</td>\n",
       "      <td>1641.2</td>\n",
       "      <td>...</td>\n",
       "      <td>1.982</td>\n",
       "      <td>1.982</td>\n",
       "      <td>1.982</td>\n",
       "      <td>-0.0035</td>\n",
       "      <td>19.55</td>\n",
       "      <td>18.87</td>\n",
       "      <td>20.42</td>\n",
       "      <td>18.60</td>\n",
       "      <td>0.0</td>\n",
       "      <td>0.0000</td>\n",
       "    </tr>\n",
       "    <tr>\n",
       "      <th>2012-04-17</th>\n",
       "      <td>5.0</td>\n",
       "      <td>4.9</td>\n",
       "      <td>5.0</td>\n",
       "      <td>4.9</td>\n",
       "      <td>30650.0</td>\n",
       "      <td>0.0101</td>\n",
       "      <td>1650.3</td>\n",
       "      <td>1652.0</td>\n",
       "      <td>1653.0</td>\n",
       "      <td>1637.0</td>\n",
       "      <td>...</td>\n",
       "      <td>1.996</td>\n",
       "      <td>1.996</td>\n",
       "      <td>1.996</td>\n",
       "      <td>0.0071</td>\n",
       "      <td>18.46</td>\n",
       "      <td>18.66</td>\n",
       "      <td>18.66</td>\n",
       "      <td>17.58</td>\n",
       "      <td>0.0</td>\n",
       "      <td>-0.0558</td>\n",
       "    </tr>\n",
       "    <tr>\n",
       "      <th>2012-04-18</th>\n",
       "      <td>5.1</td>\n",
       "      <td>5.0</td>\n",
       "      <td>5.2</td>\n",
       "      <td>5.0</td>\n",
       "      <td>79130.0</td>\n",
       "      <td>0.0281</td>\n",
       "      <td>1638.8</td>\n",
       "      <td>1653.2</td>\n",
       "      <td>1653.3</td>\n",
       "      <td>1638.1</td>\n",
       "      <td>...</td>\n",
       "      <td>1.975</td>\n",
       "      <td>1.975</td>\n",
       "      <td>1.975</td>\n",
       "      <td>-0.0105</td>\n",
       "      <td>18.64</td>\n",
       "      <td>19.02</td>\n",
       "      <td>19.17</td>\n",
       "      <td>18.03</td>\n",
       "      <td>0.0</td>\n",
       "      <td>0.0098</td>\n",
       "    </tr>\n",
       "    <tr>\n",
       "      <th>2012-04-19</th>\n",
       "      <td>5.1</td>\n",
       "      <td>5.1</td>\n",
       "      <td>5.2</td>\n",
       "      <td>5.1</td>\n",
       "      <td>46680.0</td>\n",
       "      <td>0.0000</td>\n",
       "      <td>1640.6</td>\n",
       "      <td>1642.1</td>\n",
       "      <td>1653.1</td>\n",
       "      <td>1632.0</td>\n",
       "      <td>...</td>\n",
       "      <td>1.968</td>\n",
       "      <td>1.968</td>\n",
       "      <td>1.968</td>\n",
       "      <td>-0.0035</td>\n",
       "      <td>18.36</td>\n",
       "      <td>18.51</td>\n",
       "      <td>19.69</td>\n",
       "      <td>17.69</td>\n",
       "      <td>0.0</td>\n",
       "      <td>-0.0150</td>\n",
       "    </tr>\n",
       "  </tbody>\n",
       "</table>\n",
       "<p>7 rows × 29 columns</p>\n",
       "</div>"
      ],
      "text/plain": [
       "            Close_BTC  Open_BTC  High_BTC  Low_BTC  Volume_BTC  Change_BTC  \\\n",
       "Date                                                                         \n",
       "2012-04-13        4.9       4.9       4.9      4.7     93110.0      0.0000   \n",
       "2012-04-14        5.0       4.9       5.0      4.9     63890.0      0.0000   \n",
       "2012-04-15        5.0       5.0       5.0      4.9     33340.0      0.0000   \n",
       "2012-04-16        4.9       5.0       5.0      4.9     31160.0      0.0000   \n",
       "2012-04-17        5.0       4.9       5.0      4.9     30650.0      0.0101   \n",
       "2012-04-18        5.1       5.0       5.2      5.0     79130.0      0.0281   \n",
       "2012-04-19        5.1       5.1       5.2      5.1     46680.0      0.0000   \n",
       "\n",
       "            Close_GLD  Open_GLD  High_GLD  Low_GLD  ...  Open_US10YT  \\\n",
       "Date                                                ...                \n",
       "2012-04-13     1659.1    1673.3    1674.8   1650.0  ...        1.989   \n",
       "2012-04-14        0.0       0.0       0.0      0.0  ...        0.000   \n",
       "2012-04-15        0.0       0.0       0.0      0.0  ...        0.000   \n",
       "2012-04-16     1648.7    1650.8    1656.8   1641.2  ...        1.982   \n",
       "2012-04-17     1650.3    1652.0    1653.0   1637.0  ...        1.996   \n",
       "2012-04-18     1638.8    1653.2    1653.3   1638.1  ...        1.975   \n",
       "2012-04-19     1640.6    1642.1    1653.1   1632.0  ...        1.968   \n",
       "\n",
       "            High_US10YT  Low_US10YT  Change_US10YT  Close_VIX  Open_VIX  \\\n",
       "Date                                                                      \n",
       "2012-04-13        1.989       1.989        -0.0326      19.55     17.95   \n",
       "2012-04-14        0.000       0.000         0.0000       0.00      0.00   \n",
       "2012-04-15        0.000       0.000         0.0000       0.00      0.00   \n",
       "2012-04-16        1.982       1.982        -0.0035      19.55     18.87   \n",
       "2012-04-17        1.996       1.996         0.0071      18.46     18.66   \n",
       "2012-04-18        1.975       1.975        -0.0105      18.64     19.02   \n",
       "2012-04-19        1.968       1.968        -0.0035      18.36     18.51   \n",
       "\n",
       "            High_VIX  Low_VIX  Volume_VIX  Change_VIX  \n",
       "Date                                                   \n",
       "2012-04-13     19.62    17.85         0.0      0.1366  \n",
       "2012-04-14      0.00     0.00         0.0      0.0000  \n",
       "2012-04-15      0.00     0.00         0.0      0.0000  \n",
       "2012-04-16     20.42    18.60         0.0      0.0000  \n",
       "2012-04-17     18.66    17.58         0.0     -0.0558  \n",
       "2012-04-18     19.17    18.03         0.0      0.0098  \n",
       "2012-04-19     19.69    17.69         0.0     -0.0150  \n",
       "\n",
       "[7 rows x 29 columns]"
      ]
     },
     "execution_count": 11,
     "metadata": {},
     "output_type": "execute_result"
    }
   ],
   "source": [
    "df.head(7)"
   ]
  },
  {
   "cell_type": "code",
   "execution_count": 12,
   "metadata": {},
   "outputs": [
    {
     "data": {
      "text/html": [
       "<div>\n",
       "<style scoped>\n",
       "    .dataframe tbody tr th:only-of-type {\n",
       "        vertical-align: middle;\n",
       "    }\n",
       "\n",
       "    .dataframe tbody tr th {\n",
       "        vertical-align: top;\n",
       "    }\n",
       "\n",
       "    .dataframe thead th {\n",
       "        text-align: right;\n",
       "    }\n",
       "</style>\n",
       "<table border=\"1\" class=\"dataframe\">\n",
       "  <thead>\n",
       "    <tr style=\"text-align: right;\">\n",
       "      <th></th>\n",
       "      <th>Close_BTC</th>\n",
       "      <th>Open_BTC</th>\n",
       "      <th>High_BTC</th>\n",
       "      <th>Low_BTC</th>\n",
       "      <th>Volume_BTC</th>\n",
       "      <th>Change_BTC</th>\n",
       "      <th>Close_GLD</th>\n",
       "      <th>Open_GLD</th>\n",
       "      <th>High_GLD</th>\n",
       "      <th>Low_GLD</th>\n",
       "      <th>...</th>\n",
       "      <th>Open_US10YT</th>\n",
       "      <th>High_US10YT</th>\n",
       "      <th>Low_US10YT</th>\n",
       "      <th>Change_US10YT</th>\n",
       "      <th>Close_VIX</th>\n",
       "      <th>Open_VIX</th>\n",
       "      <th>High_VIX</th>\n",
       "      <th>Low_VIX</th>\n",
       "      <th>Volume_VIX</th>\n",
       "      <th>Change_VIX</th>\n",
       "    </tr>\n",
       "    <tr>\n",
       "      <th>Date</th>\n",
       "      <th></th>\n",
       "      <th></th>\n",
       "      <th></th>\n",
       "      <th></th>\n",
       "      <th></th>\n",
       "      <th></th>\n",
       "      <th></th>\n",
       "      <th></th>\n",
       "      <th></th>\n",
       "      <th></th>\n",
       "      <th></th>\n",
       "      <th></th>\n",
       "      <th></th>\n",
       "      <th></th>\n",
       "      <th></th>\n",
       "      <th></th>\n",
       "      <th></th>\n",
       "      <th></th>\n",
       "      <th></th>\n",
       "      <th></th>\n",
       "      <th></th>\n",
       "    </tr>\n",
       "  </thead>\n",
       "  <tbody>\n",
       "    <tr>\n",
       "      <th>2022-04-10</th>\n",
       "      <td>42138.0</td>\n",
       "      <td>42760.0</td>\n",
       "      <td>43421.0</td>\n",
       "      <td>41884.0</td>\n",
       "      <td>255830000.0</td>\n",
       "      <td>-0.0147</td>\n",
       "      <td>0.0</td>\n",
       "      <td>0.0</td>\n",
       "      <td>0.0</td>\n",
       "      <td>0.0</td>\n",
       "      <td>...</td>\n",
       "      <td>2.719</td>\n",
       "      <td>2.723</td>\n",
       "      <td>2.719</td>\n",
       "      <td>0.0070</td>\n",
       "      <td>0.00</td>\n",
       "      <td>0.00</td>\n",
       "      <td>0.00</td>\n",
       "      <td>0.00</td>\n",
       "      <td>0.0</td>\n",
       "      <td>0.0000</td>\n",
       "    </tr>\n",
       "    <tr>\n",
       "      <th>2022-04-11</th>\n",
       "      <td>39497.0</td>\n",
       "      <td>42144.0</td>\n",
       "      <td>42418.0</td>\n",
       "      <td>39202.0</td>\n",
       "      <td>608380000.0</td>\n",
       "      <td>-0.0627</td>\n",
       "      <td>1948.2</td>\n",
       "      <td>1949.6</td>\n",
       "      <td>1974.6</td>\n",
       "      <td>1942.9</td>\n",
       "      <td>...</td>\n",
       "      <td>2.723</td>\n",
       "      <td>2.793</td>\n",
       "      <td>2.711</td>\n",
       "      <td>0.0190</td>\n",
       "      <td>24.37</td>\n",
       "      <td>23.09</td>\n",
       "      <td>24.42</td>\n",
       "      <td>22.09</td>\n",
       "      <td>0.0</td>\n",
       "      <td>0.1517</td>\n",
       "    </tr>\n",
       "    <tr>\n",
       "      <th>2022-04-12</th>\n",
       "      <td>40078.0</td>\n",
       "      <td>39507.0</td>\n",
       "      <td>40678.0</td>\n",
       "      <td>39265.0</td>\n",
       "      <td>468270000.0</td>\n",
       "      <td>0.0147</td>\n",
       "      <td>1976.1</td>\n",
       "      <td>1957.4</td>\n",
       "      <td>1982.7</td>\n",
       "      <td>1953.0</td>\n",
       "      <td>...</td>\n",
       "      <td>2.803</td>\n",
       "      <td>2.836</td>\n",
       "      <td>2.674</td>\n",
       "      <td>-0.0170</td>\n",
       "      <td>24.26</td>\n",
       "      <td>24.94</td>\n",
       "      <td>25.38</td>\n",
       "      <td>22.27</td>\n",
       "      <td>0.0</td>\n",
       "      <td>-0.0045</td>\n",
       "    </tr>\n",
       "    <tr>\n",
       "      <th>2022-04-13</th>\n",
       "      <td>41133.0</td>\n",
       "      <td>40072.0</td>\n",
       "      <td>41515.0</td>\n",
       "      <td>39581.0</td>\n",
       "      <td>406700000.0</td>\n",
       "      <td>0.0263</td>\n",
       "      <td>1984.7</td>\n",
       "      <td>1970.5</td>\n",
       "      <td>1985.8</td>\n",
       "      <td>1966.3</td>\n",
       "      <td>...</td>\n",
       "      <td>2.727</td>\n",
       "      <td>2.790</td>\n",
       "      <td>2.646</td>\n",
       "      <td>-0.0090</td>\n",
       "      <td>21.82</td>\n",
       "      <td>23.52</td>\n",
       "      <td>24.45</td>\n",
       "      <td>21.37</td>\n",
       "      <td>0.0</td>\n",
       "      <td>-0.1006</td>\n",
       "    </tr>\n",
       "    <tr>\n",
       "      <th>2022-04-14</th>\n",
       "      <td>40481.0</td>\n",
       "      <td>41133.0</td>\n",
       "      <td>41494.0</td>\n",
       "      <td>40340.0</td>\n",
       "      <td>341380000.0</td>\n",
       "      <td>-0.0159</td>\n",
       "      <td>0.0</td>\n",
       "      <td>0.0</td>\n",
       "      <td>0.0</td>\n",
       "      <td>0.0</td>\n",
       "      <td>...</td>\n",
       "      <td>2.699</td>\n",
       "      <td>2.717</td>\n",
       "      <td>2.656</td>\n",
       "      <td>0.0024</td>\n",
       "      <td>21.75</td>\n",
       "      <td>21.82</td>\n",
       "      <td>21.87</td>\n",
       "      <td>21.44</td>\n",
       "      <td>0.0</td>\n",
       "      <td>-0.0032</td>\n",
       "    </tr>\n",
       "  </tbody>\n",
       "</table>\n",
       "<p>5 rows × 29 columns</p>\n",
       "</div>"
      ],
      "text/plain": [
       "            Close_BTC  Open_BTC  High_BTC  Low_BTC   Volume_BTC  Change_BTC  \\\n",
       "Date                                                                          \n",
       "2022-04-10    42138.0   42760.0   43421.0  41884.0  255830000.0     -0.0147   \n",
       "2022-04-11    39497.0   42144.0   42418.0  39202.0  608380000.0     -0.0627   \n",
       "2022-04-12    40078.0   39507.0   40678.0  39265.0  468270000.0      0.0147   \n",
       "2022-04-13    41133.0   40072.0   41515.0  39581.0  406700000.0      0.0263   \n",
       "2022-04-14    40481.0   41133.0   41494.0  40340.0  341380000.0     -0.0159   \n",
       "\n",
       "            Close_GLD  Open_GLD  High_GLD  Low_GLD  ...  Open_US10YT  \\\n",
       "Date                                                ...                \n",
       "2022-04-10        0.0       0.0       0.0      0.0  ...        2.719   \n",
       "2022-04-11     1948.2    1949.6    1974.6   1942.9  ...        2.723   \n",
       "2022-04-12     1976.1    1957.4    1982.7   1953.0  ...        2.803   \n",
       "2022-04-13     1984.7    1970.5    1985.8   1966.3  ...        2.727   \n",
       "2022-04-14        0.0       0.0       0.0      0.0  ...        2.699   \n",
       "\n",
       "            High_US10YT  Low_US10YT  Change_US10YT  Close_VIX  Open_VIX  \\\n",
       "Date                                                                      \n",
       "2022-04-10        2.723       2.719         0.0070       0.00      0.00   \n",
       "2022-04-11        2.793       2.711         0.0190      24.37     23.09   \n",
       "2022-04-12        2.836       2.674        -0.0170      24.26     24.94   \n",
       "2022-04-13        2.790       2.646        -0.0090      21.82     23.52   \n",
       "2022-04-14        2.717       2.656         0.0024      21.75     21.82   \n",
       "\n",
       "            High_VIX  Low_VIX  Volume_VIX  Change_VIX  \n",
       "Date                                                   \n",
       "2022-04-10      0.00     0.00         0.0      0.0000  \n",
       "2022-04-11     24.42    22.09         0.0      0.1517  \n",
       "2022-04-12     25.38    22.27         0.0     -0.0045  \n",
       "2022-04-13     24.45    21.37         0.0     -0.1006  \n",
       "2022-04-14     21.87    21.44         0.0     -0.0032  \n",
       "\n",
       "[5 rows x 29 columns]"
      ]
     },
     "execution_count": 12,
     "metadata": {},
     "output_type": "execute_result"
    }
   ],
   "source": [
    "df.tail()"
   ]
  },
  {
   "cell_type": "code",
   "execution_count": 13,
   "metadata": {},
   "outputs": [],
   "source": [
    "df.to_csv('./data/ETF.csv')"
   ]
  },
  {
   "cell_type": "code",
   "execution_count": 14,
   "metadata": {},
   "outputs": [
    {
     "data": {
      "text/plain": [
       "3654"
      ]
     },
     "execution_count": 14,
     "metadata": {},
     "output_type": "execute_result"
    }
   ],
   "source": [
    "len(df)"
   ]
  },
  {
   "cell_type": "code",
   "execution_count": 15,
   "metadata": {},
   "outputs": [],
   "source": [
    "df['target'] = df['Close_BTC'].pct_change()"
   ]
  },
  {
   "cell_type": "code",
   "execution_count": 16,
   "metadata": {
    "scrolled": true
   },
   "outputs": [
    {
     "data": {
      "text/plain": [
       "count    3653.000000\n",
       "mean        0.004237\n",
       "std         0.075543\n",
       "min        -0.572084\n",
       "25%        -0.013045\n",
       "50%         0.001810\n",
       "75%         0.019909\n",
       "max         3.367452\n",
       "Name: target, dtype: float64"
      ]
     },
     "execution_count": 16,
     "metadata": {},
     "output_type": "execute_result"
    }
   ],
   "source": [
    "df['target'].describe()"
   ]
  },
  {
   "cell_type": "code",
   "execution_count": 17,
   "metadata": {},
   "outputs": [
    {
     "data": {
      "text/plain": [
       " 1    1923\n",
       "-1    1731\n",
       "Name: target, dtype: int64"
      ]
     },
     "execution_count": 17,
     "metadata": {},
     "output_type": "execute_result"
    }
   ],
   "source": [
    "df['target'] = np.where(df['target'] > 0 , 1, -1)\n",
    "df['target'].value_counts()"
   ]
  },
  {
   "cell_type": "code",
   "execution_count": 18,
   "metadata": {},
   "outputs": [],
   "source": [
    "df['target'] = df['target'].shift(-1)"
   ]
  },
  {
   "cell_type": "code",
   "execution_count": 19,
   "metadata": {},
   "outputs": [
    {
     "data": {
      "text/plain": [
       "3653"
      ]
     },
     "execution_count": 19,
     "metadata": {},
     "output_type": "execute_result"
    }
   ],
   "source": [
    "df = df.dropna()\n",
    "len(df)"
   ]
  },
  {
   "cell_type": "code",
   "execution_count": 20,
   "metadata": {},
   "outputs": [],
   "source": [
    "df['target'] = df['target'].astype(np.int64)"
   ]
  },
  {
   "cell_type": "code",
   "execution_count": 21,
   "metadata": {},
   "outputs": [
    {
     "name": "stdout",
     "output_type": "stream",
     "text": [
      "<class 'pandas.core.frame.DataFrame'>\n",
      "DatetimeIndex: 3653 entries, 2012-04-13 to 2022-04-13\n",
      "Data columns (total 28 columns):\n",
      " #   Column         Non-Null Count  Dtype  \n",
      "---  ------         --------------  -----  \n",
      " 0   Close_BTC      3653 non-null   float64\n",
      " 1   Open_BTC       3653 non-null   float64\n",
      " 2   High_BTC       3653 non-null   float64\n",
      " 3   Low_BTC        3653 non-null   float64\n",
      " 4   Volume_BTC     3653 non-null   float64\n",
      " 5   Change_BTC     3653 non-null   float64\n",
      " 6   Close_GLD      3653 non-null   float64\n",
      " 7   Open_GLD       3653 non-null   float64\n",
      " 8   High_GLD       3653 non-null   float64\n",
      " 9   Low_GLD        3653 non-null   float64\n",
      " 10  Volume_GLD     3653 non-null   float64\n",
      " 11  Change_GLD     3653 non-null   float64\n",
      " 12  Close_NDAQ     3653 non-null   float64\n",
      " 13  Open_NDAQ      3653 non-null   float64\n",
      " 14  High_NDAQ      3653 non-null   float64\n",
      " 15  Low_NDAQ       3653 non-null   float64\n",
      " 16  Volume_NDAQ    3653 non-null   float64\n",
      " 17  Change_NDAQ    3653 non-null   float64\n",
      " 18  Close_US10YT   3653 non-null   float64\n",
      " 19  Open_US10YT    3653 non-null   float64\n",
      " 20  High_US10YT    3653 non-null   float64\n",
      " 21  Low_US10YT     3653 non-null   float64\n",
      " 22  Change_US10YT  3653 non-null   float64\n",
      " 23  Close_VIX      3653 non-null   float64\n",
      " 24  Open_VIX       3653 non-null   float64\n",
      " 25  High_VIX       3653 non-null   float64\n",
      " 26  Low_VIX        3653 non-null   float64\n",
      " 27  Change_VIX     3653 non-null   float64\n",
      "dtypes: float64(28)\n",
      "memory usage: 827.6 KB\n"
     ]
    }
   ],
   "source": [
    "y_var = df['target']\n",
    "x_var = df.drop(['target', 'Volume_VIX'], axis=1) \n",
    "x_var.info()"
   ]
  },
  {
   "cell_type": "code",
   "execution_count": 22,
   "metadata": {},
   "outputs": [
    {
     "name": "stdout",
     "output_type": "stream",
     "text": [
      "up/down ratio: 0.53\n"
     ]
    }
   ],
   "source": [
    "up=df[df['target']==1].target.count()\n",
    "total=df.target.count()\n",
    "print('up/down ratio: {0:.2f}'.format((up/total)))"
   ]
  },
  {
   "cell_type": "code",
   "execution_count": 23,
   "metadata": {},
   "outputs": [
    {
     "name": "stdout",
     "output_type": "stream",
     "text": [
      "train set label ratio\n",
      " 1    0.527962\n",
      "-1    0.472038\n",
      "Name: target, dtype: float64\n",
      "test set label ratio\n",
      " 1    0.52281\n",
      "-1    0.47719\n",
      "Name: target, dtype: float64\n"
     ]
    }
   ],
   "source": [
    "X_train, X_test, y_train, y_test = train_test_split(x_var, \n",
    "                                                    y_var, \n",
    "                                                    test_size=0.3, \n",
    "                                                    shuffle=False, \n",
    "                                                    random_state=3)\n",
    "\n",
    "train_count = y_train.count()\n",
    "test_count = y_test.count()\n",
    "\n",
    "print('train set label ratio')\n",
    "print(y_train.value_counts()/train_count)\n",
    "print('test set label ratio')\n",
    "print(y_test.value_counts()/test_count)"
   ]
  },
  {
   "cell_type": "code",
   "execution_count": 24,
   "metadata": {},
   "outputs": [],
   "source": [
    "def get_confusion_matrix(y_test, pred):\n",
    "    confusion = confusion_matrix(y_test, pred)\n",
    "    accuracy = accuracy_score(y_test, pred)\n",
    "    precision = precision_score(y_test, pred)\n",
    "    recall = recall_score(y_test, pred)\n",
    "    f1 = f1_score(y_test, pred)\n",
    "    roc_score = roc_auc_score(y_test, pred)\n",
    "    print('confusion matrix')\n",
    "    print('accuracy:{0:.4f},precision:{1:.4f},recall:{2:.4f},F1:{3:.4f},ROC AUC score:{4:.4f}'.format(accuracy, precision, recall, f1,roc_score))"
   ]
  },
  {
   "cell_type": "code",
   "execution_count": 77,
   "metadata": {},
   "outputs": [],
   "source": [
    "n_estimators = range(10,400,10)\n",
    "\n",
    "xg_parameters ={'max_depth' : [3,4,5,6],\n",
    "                'objective':['binary:logistic'],\n",
    "                'n_estimators': n_estimators, \n",
    "                'learning_rate':[0.01, 0.1], \n",
    "                'gamma': [0.5, 1, 2], \n",
    "                'random_state':[3],\n",
    "               'early_stopping_rounds':[30],\n",
    "               'eval_metric' : ['logloss'], \n",
    "                'eval_set' : [[X_test, y_test]],\n",
    "               'scoring':['f1']}\n",
    "\n",
    "# xgb_cv = TimeSeriesSplit(n_splits=5).split(X_train)\n",
    "xgb_cv=KFold(n_splits=5)"
   ]
  },
  {
   "cell_type": "code",
   "execution_count": 78,
   "metadata": {},
   "outputs": [
    {
     "name": "stdout",
     "output_type": "stream",
     "text": [
      "[14:48:15] WARNING: C:/Users/Administrator/workspace/xgboost-win64_release_1.5.1/src/learner.cc:576: \n",
      "Parameters: { \"early_stopping_rounds\", \"eval_set\", \"scoring\" } might not be used.\n",
      "\n",
      "  This could be a false alarm, with some parameters getting used by language bindings but\n",
      "  then being mistakenly passed down to XGBoost core, or some parameter actually being used\n",
      "  but getting flagged wrongly here. Please open an issue if you find any such cases.\n",
      "\n",
      "\n"
     ]
    }
   ],
   "source": [
    "# xgb_dis = XGBClassifier(eval_metric='error', n_estimators=400, learning_rate=0.1, max_depth=3, random_state=3, early_stopping_rounds=30)\n",
    "xgb_model = XGBClassifier()\n",
    "\n",
    "xgb_clf = GridSearchCV(xgb_model, xg_parameters, n_jobs=-1, \n",
    "                       cv=xgb_cv\n",
    "#                    cv=xgb_cv, n_folds=5, shuffle=True, \n",
    "#                    scoring='roc_auc',\n",
    "                      )\n",
    "\n",
    "# xgb_dis.fit(X_train, y_train)\n",
    "# xgb_pred = xgb_dis.predict(X_test)\n",
    "\n",
    "xgb_clf.fit(X_train, y_train)\n",
    "xgb_pred = xgb_clf.predict(X_test)"
   ]
  },
  {
   "cell_type": "code",
   "execution_count": 81,
   "metadata": {
    "scrolled": true
   },
   "outputs": [
    {
     "name": "stdout",
     "output_type": "stream",
     "text": [
      "xgb best params :  {'early_stopping_rounds': 30, 'eval_metric': 'logloss', 'eval_set': [            Close_BTC  Open_BTC  High_BTC  Low_BTC   Volume_BTC  Change_BTC  \\\n",
      "Date                                                                          \n",
      "2019-04-14     5134.8    5052.0    5153.5   5010.7     566380.0      0.0164   \n",
      "2019-04-15     5032.3    5135.1    5168.0   4964.2     688200.0     -0.0200   \n",
      "2019-04-16     5180.9    5031.4    5198.4   5014.4     631050.0      0.0295   \n",
      "2019-04-17     5208.3    5182.1    5230.9   5165.5     806520.0      0.0053   \n",
      "2019-04-18     5264.7    5208.3    5293.1   5205.0     727970.0      0.0108   \n",
      "...               ...       ...       ...      ...          ...         ...   \n",
      "2022-04-09    42767.0   42275.0   42809.0  42129.0  165160000.0      0.0116   \n",
      "2022-04-10    42138.0   42760.0   43421.0  41884.0  255830000.0     -0.0147   \n",
      "2022-04-11    39497.0   42144.0   42418.0  39202.0  608380000.0     -0.0627   \n",
      "2022-04-12    40078.0   39507.0   40678.0  39265.0  468270000.0      0.0147   \n",
      "2022-04-13    41133.0   40072.0   41515.0  39581.0  406700000.0      0.0263   \n",
      "\n",
      "            Close_GLD  Open_GLD  High_GLD  Low_GLD  ...  Close_US10YT  \\\n",
      "Date                                                ...                 \n",
      "2019-04-14        0.0       0.0       0.0      0.0  ...         2.556   \n",
      "2019-04-15     1342.4    1342.4    1342.4   1342.4  ...         2.556   \n",
      "2019-04-16     1328.1    1329.1    1329.1   1329.0  ...         2.592   \n",
      "2019-04-17     1327.6    1327.6    1327.6   1327.6  ...         2.594   \n",
      "2019-04-18     1326.9    1326.9    1326.9   1326.9  ...         2.560   \n",
      "...               ...       ...       ...      ...  ...           ...   \n",
      "2022-04-09        0.0       0.0       0.0      0.0  ...         0.000   \n",
      "2022-04-10        0.0       0.0       0.0      0.0  ...         2.723   \n",
      "2022-04-11     1948.2    1949.6    1974.6   1942.9  ...         2.774   \n",
      "2022-04-12     1976.1    1957.4    1982.7   1953.0  ...         2.727   \n",
      "2022-04-13     1984.7    1970.5    1985.8   1966.3  ...         2.703   \n",
      "\n",
      "            Open_US10YT  High_US10YT  Low_US10YT  Change_US10YT  Close_VIX  \\\n",
      "Date                                                                         \n",
      "2019-04-14        2.558        2.558       2.556        -0.0021       0.00   \n",
      "2019-04-15        2.558        2.574       2.547         0.0000      12.32   \n",
      "2019-04-16        2.556        2.596       2.547         0.0141      12.18   \n",
      "2019-04-17        2.585        2.614       2.579         0.0007      12.60   \n",
      "2019-04-18        2.587        2.589       2.549        -0.0133      12.09   \n",
      "...                 ...          ...         ...            ...        ...   \n",
      "2022-04-09        0.000        0.000       0.000         0.0000       0.00   \n",
      "2022-04-10        2.719        2.723       2.719         0.0070       0.00   \n",
      "2022-04-11        2.723        2.793       2.711         0.0190      24.37   \n",
      "2022-04-12        2.803        2.836       2.674        -0.0170      24.26   \n",
      "2022-04-13        2.727        2.790       2.646        -0.0090      21.82   \n",
      "\n",
      "            Open_VIX  High_VIX  Low_VIX  Change_VIX  \n",
      "Date                                                 \n",
      "2019-04-14      0.00      0.00     0.00      0.0000  \n",
      "2019-04-15     12.46     13.14    12.24      0.0258  \n",
      "2019-04-16     12.26     12.47    11.85     -0.0114  \n",
      "2019-04-17     12.12     13.02    11.03      0.0345  \n",
      "2019-04-18     12.80     13.12    12.02     -0.0405  \n",
      "...              ...       ...      ...         ...  \n",
      "2022-04-09      0.00      0.00     0.00      0.0000  \n",
      "2022-04-10      0.00      0.00     0.00      0.0000  \n",
      "2022-04-11     23.09     24.42    22.09      0.1517  \n",
      "2022-04-12     24.94     25.38    22.27     -0.0045  \n",
      "2022-04-13     23.52     24.45    21.37     -0.1006  \n",
      "\n",
      "[1096 rows x 28 columns], Date\n",
      "2019-04-14   -1\n",
      "2019-04-15    1\n",
      "2019-04-16    1\n",
      "2019-04-17    1\n",
      "2019-04-18   -1\n",
      "             ..\n",
      "2022-04-09   -1\n",
      "2022-04-10   -1\n",
      "2022-04-11    1\n",
      "2022-04-12    1\n",
      "2022-04-13   -1\n",
      "Name: target, Length: 1096, dtype: int64], 'gamma': 0.5, 'learning_rate': 0.01, 'max_depth': 3, 'n_estimators': 90, 'objective': 'binary:logistic', 'random_state': 3, 'scoring': 'f1'}\n",
      "confusion matrix\n",
      "accuracy:0.5301,precision:0.5424,recall:0.6475,F1:0.5903,ROC AUC score:0.5245\n",
      "None\n"
     ]
    }
   ],
   "source": [
    "print(\"xgb best params : \", xgb_clf.best_params_)\n",
    "print(get_confusion_matrix(y_test, xgb_pred))"
   ]
  },
  {
   "cell_type": "code",
   "execution_count": 82,
   "metadata": {},
   "outputs": [
    {
     "data": {
      "text/plain": [
       "0.6159561986703168"
      ]
     },
     "execution_count": 82,
     "metadata": {},
     "output_type": "execute_result"
    }
   ],
   "source": [
    "xgb_clf.score(X_train, y_train)"
   ]
  },
  {
   "cell_type": "code",
   "execution_count": 57,
   "metadata": {},
   "outputs": [
    {
     "name": "stdout",
     "output_type": "stream",
     "text": [
      "[10:50:08] WARNING: C:/Users/Administrator/workspace/xgboost-win64_release_1.5.1/src/learner.cc:576: \n",
      "Parameters: { \"early_stopping_rounds\" } might not be used.\n",
      "\n",
      "  This could be a false alarm, with some parameters getting used by language bindings but\n",
      "  then being mistakenly passed down to XGBoost core, or some parameter actually being used\n",
      "  but getting flagged wrongly here. Please open an issue if you find any such cases.\n",
      "\n",
      "\n"
     ]
    }
   ],
   "source": [
    "xgb_dis = XGBClassifier(eval_metric='error', n_estimators=400, learning_rate=0.025, max_depth=3, random_state=3, early_stopping_rounds=30)\n",
    "xgb_dis.fit(X_train, y_train)\n",
    "xgb_pred = xgb_dis.predict(X_test)"
   ]
  },
  {
   "cell_type": "code",
   "execution_count": 58,
   "metadata": {},
   "outputs": [
    {
     "data": {
      "text/plain": [
       "XGBClassifier(base_score=0.5, booster='gbtree', colsample_bylevel=1,\n",
       "              colsample_bynode=1, colsample_bytree=1, early_stopping_rounds=30,\n",
       "              enable_categorical=False, eval_metric='error', gamma=0, gpu_id=-1,\n",
       "              importance_type=None, interaction_constraints='',\n",
       "              learning_rate=0.025, max_delta_step=0, max_depth=3,\n",
       "              min_child_weight=1, missing=nan, monotone_constraints='()',\n",
       "              n_estimators=400, n_jobs=12, num_parallel_tree=1,\n",
       "              predictor='auto', random_state=3, reg_alpha=0, reg_lambda=1,\n",
       "              scale_pos_weight=1, subsample=1, tree_method='exact',\n",
       "              validate_parameters=1, verbosity=None)"
      ]
     },
     "execution_count": 58,
     "metadata": {},
     "output_type": "execute_result"
    }
   ],
   "source": [
    "xgb_dis"
   ]
  },
  {
   "cell_type": "code",
   "execution_count": 59,
   "metadata": {},
   "outputs": [
    {
     "name": "stdout",
     "output_type": "stream",
     "text": [
      "0.7305436057880329\n"
     ]
    }
   ],
   "source": [
    "print(xgb_dis.score(X_train, y_train))"
   ]
  },
  {
   "cell_type": "code",
   "execution_count": 60,
   "metadata": {},
   "outputs": [
    {
     "name": "stdout",
     "output_type": "stream",
     "text": [
      "confusion matrix\n",
      "accuracy:0.5411,precision:0.5608,recall:0.5637,F1:0.5622,ROC AUC score:0.5400\n"
     ]
    }
   ],
   "source": [
    "get_confusion_matrix(y_test, xgb_pred)"
   ]
  },
  {
   "cell_type": "code",
   "execution_count": 28,
   "metadata": {},
   "outputs": [],
   "source": [
    "n_estimators = range(10,200,10)\n",
    "\n",
    "params = {\n",
    "    'bootstrap': [True],\n",
    "    'n_estimators':n_estimators,\n",
    "    'max_depth':[4,6,8,10,12],\n",
    "    'min_samples_leaf': [2, 3, 4, 5],\n",
    "    'min_samples_split': [2, 4, 6, 8, 10],\n",
    "    'max_features':[4]\n",
    "}"
   ]
  },
  {
   "cell_type": "code",
   "execution_count": 29,
   "metadata": {},
   "outputs": [],
   "source": [
    "my_cv = TimeSeriesSplit(n_splits=5).split(X_train)"
   ]
  },
  {
   "cell_type": "code",
   "execution_count": 30,
   "metadata": {},
   "outputs": [
    {
     "data": {
      "text/plain": [
       "<generator object TimeSeriesSplit.split at 0x0000013CF8A71C80>"
      ]
     },
     "execution_count": 30,
     "metadata": {},
     "output_type": "execute_result"
    }
   ],
   "source": [
    "my_cv"
   ]
  },
  {
   "cell_type": "code",
   "execution_count": 31,
   "metadata": {},
   "outputs": [],
   "source": [
    "clf = GridSearchCV(RandomForestClassifier(), params, cv=my_cv, n_jobs=-1)"
   ]
  },
  {
   "cell_type": "code",
   "execution_count": 32,
   "metadata": {},
   "outputs": [
    {
     "data": {
      "text/plain": [
       "GridSearchCV(cv=<generator object TimeSeriesSplit.split at 0x0000013CF8A71C80>,\n",
       "             estimator=RandomForestClassifier(), n_jobs=-1,\n",
       "             param_grid={'bootstrap': [True], 'max_depth': [4, 6, 8, 10, 12],\n",
       "                         'max_features': [4], 'min_samples_leaf': [2, 3, 4, 5],\n",
       "                         'min_samples_split': [2, 4, 6, 8, 10],\n",
       "                         'n_estimators': range(10, 200, 10)})"
      ]
     },
     "execution_count": 32,
     "metadata": {},
     "output_type": "execute_result"
    }
   ],
   "source": [
    "clf"
   ]
  },
  {
   "cell_type": "code",
   "execution_count": 33,
   "metadata": {},
   "outputs": [],
   "source": [
    "import time"
   ]
  },
  {
   "cell_type": "code",
   "execution_count": 34,
   "metadata": {},
   "outputs": [
    {
     "name": "stdout",
     "output_type": "stream",
     "text": [
      "242.0614469051361  seconds consumed\n"
     ]
    }
   ],
   "source": [
    "start_time = time.time()\n",
    "clf.fit(X_train, y_train)\n",
    "print(time.time() - start_time,\" seconds consumed\")"
   ]
  },
  {
   "cell_type": "code",
   "execution_count": 35,
   "metadata": {},
   "outputs": [
    {
     "name": "stdout",
     "output_type": "stream",
     "text": [
      "best parameter:\n",
      " {'bootstrap': True, 'max_depth': 4, 'max_features': 4, 'min_samples_leaf': 5, 'min_samples_split': 2, 'n_estimators': 60}\n",
      "best prediction:0.5366\n"
     ]
    }
   ],
   "source": [
    "## Random Forest에서 best param\n",
    "print('best parameter:\\n', clf.best_params_)\n",
    "print('best prediction:{0:.4f}'.format(clf.best_score_))"
   ]
  },
  {
   "cell_type": "code",
   "execution_count": 36,
   "metadata": {},
   "outputs": [],
   "source": [
    "lgb = LGBMClassifier(n_estimators=400, learning_rate=0.1, max_depth=3, random_state=3)\n",
    "lgb.fit(X_train, y_train)\n",
    "lgb_pred = lgb.predict(X_test)"
   ]
  },
  {
   "cell_type": "code",
   "execution_count": 37,
   "metadata": {},
   "outputs": [
    {
     "name": "stdout",
     "output_type": "stream",
     "text": [
      "RF accuracy:0.5155\n",
      "confusion matrix\n",
      "accuracy:0.5155,precision:0.5362,recall:0.5428,F1:0.5395,ROC AUC score:0.5142\n",
      "xgb score : 0.879546343371138\n",
      "confusion matrix\n",
      "accuracy:0.5401,precision:0.5891,recall:0.3979,F1:0.4750,ROC AUC score:0.5469\n",
      "lgb score : 0.8596010950332421\n",
      "confusion matrix\n",
      "accuracy:0.5246,precision:0.5463,recall:0.5358,F1:0.5410,ROC AUC score:0.5241\n"
     ]
    }
   ],
   "source": [
    "pred_con = clf.predict(X_test)\n",
    "accuracy_con = accuracy_score(y_test, pred_con)\n",
    "print('RF accuracy:{0:.4f}'.format(accuracy_con))\n",
    "get_confusion_matrix(y_test, pred_con)\n",
    "\n",
    "print(\"xgb score :\", xgb_dis.score(X_train, y_train))\n",
    "get_confusion_matrix(y_test, xgb_pred)\n",
    "http://localhost:8889/notebooks/Trader/Trader.ipynb#\n",
    "print(\"lgb score :\", lgb.score(X_train, y_train))\n",
    "get_confusion_matrix(y_test, lgb_pred)"
   ]
  },
  {
   "cell_type": "code",
   "execution_count": 38,
   "metadata": {},
   "outputs": [],
   "source": [
    "cols = {'close':'Close', 'open':'Open', 'high':'High', 'low':'Low', 'volume':'Volume'}\n",
    "ETH = pd.read_csv('./data/ETHUSDT1d.csv', parse_dates=['time'], index_col = 'time')\n",
    "ETH = ETH.rename_axis('Date')\n",
    "ETH = ETH.iloc[:, 1:6]\n",
    "ETH = ETH[['close', 'open', 'high', 'low', 'volume']]\n",
    "ETH.rename(columns=cols, inplace=True)"
   ]
  },
  {
   "cell_type": "code",
   "execution_count": 39,
   "metadata": {},
   "outputs": [],
   "source": [
    "test = ETH.merge(GOLD, on='Date', how='left', suffixes=('_ETH', '_GLD'))\n",
    "list_df = ['NDAQ', 'US10YT', 'VIX']\n",
    "for x in list_df:\n",
    "    test = test.merge(globals()[x].add_suffix('_'+str(x)),\n",
    "                 on='Date',\n",
    "                 how='left')"
   ]
  },
  {
   "cell_type": "code",
   "execution_count": 40,
   "metadata": {},
   "outputs": [],
   "source": [
    "# test.fillna(method='ffill', inplace=True)\n",
    "# test.fillna(method='bfill', inplace=True)\n",
    "test.fillna(0)\n",
    "test.drop(['Volume_VIX'], axis=1, inplace=True)"
   ]
  },
  {
   "cell_type": "code",
   "execution_count": 41,
   "metadata": {},
   "outputs": [
    {
     "ename": "ValueError",
     "evalue": "Input contains NaN, infinity or a value too large for dtype('float32').",
     "output_type": "error",
     "traceback": [
      "\u001b[1;31m---------------------------------------------------------------------------\u001b[0m",
      "\u001b[1;31mValueError\u001b[0m                                Traceback (most recent call last)",
      "Input \u001b[1;32mIn [41]\u001b[0m, in \u001b[0;36m<module>\u001b[1;34m\u001b[0m\n\u001b[1;32m----> 1\u001b[0m pred_eth \u001b[38;5;241m=\u001b[39m \u001b[43mclf\u001b[49m\u001b[38;5;241;43m.\u001b[39;49m\u001b[43mpredict\u001b[49m\u001b[43m(\u001b[49m\u001b[43mtest\u001b[49m\u001b[43m)\u001b[49m\n",
      "File \u001b[1;32m~\\AppData\\Roaming\\Python\\Python38\\site-packages\\sklearn\\utils\\metaestimators.py:113\u001b[0m, in \u001b[0;36m_AvailableIfDescriptor.__get__.<locals>.<lambda>\u001b[1;34m(*args, **kwargs)\u001b[0m\n\u001b[0;32m    110\u001b[0m         \u001b[38;5;28;01mraise\u001b[39;00m attr_err\n\u001b[0;32m    112\u001b[0m     \u001b[38;5;66;03m# lambda, but not partial, allows help() to work with update_wrapper\u001b[39;00m\n\u001b[1;32m--> 113\u001b[0m     out \u001b[38;5;241m=\u001b[39m \u001b[38;5;28;01mlambda\u001b[39;00m \u001b[38;5;241m*\u001b[39margs, \u001b[38;5;241m*\u001b[39m\u001b[38;5;241m*\u001b[39mkwargs: \u001b[38;5;28;43mself\u001b[39;49m\u001b[38;5;241;43m.\u001b[39;49m\u001b[43mfn\u001b[49m\u001b[43m(\u001b[49m\u001b[43mobj\u001b[49m\u001b[43m,\u001b[49m\u001b[43m \u001b[49m\u001b[38;5;241;43m*\u001b[39;49m\u001b[43margs\u001b[49m\u001b[43m,\u001b[49m\u001b[43m \u001b[49m\u001b[38;5;241;43m*\u001b[39;49m\u001b[38;5;241;43m*\u001b[39;49m\u001b[43mkwargs\u001b[49m\u001b[43m)\u001b[49m  \u001b[38;5;66;03m# noqa\u001b[39;00m\n\u001b[0;32m    114\u001b[0m \u001b[38;5;28;01melse\u001b[39;00m:\n\u001b[0;32m    116\u001b[0m     \u001b[38;5;28;01mdef\u001b[39;00m \u001b[38;5;21mfn\u001b[39m(\u001b[38;5;241m*\u001b[39margs, \u001b[38;5;241m*\u001b[39m\u001b[38;5;241m*\u001b[39mkwargs):\n",
      "File \u001b[1;32m~\\AppData\\Roaming\\Python\\Python38\\site-packages\\sklearn\\model_selection\\_search.py:521\u001b[0m, in \u001b[0;36mBaseSearchCV.predict\u001b[1;34m(self, X)\u001b[0m\n\u001b[0;32m    503\u001b[0m \u001b[38;5;124;03m\"\"\"Call predict on the estimator with the best found parameters.\u001b[39;00m\n\u001b[0;32m    504\u001b[0m \n\u001b[0;32m    505\u001b[0m \u001b[38;5;124;03mOnly available if ``refit=True`` and the underlying estimator supports\u001b[39;00m\n\u001b[1;32m   (...)\u001b[0m\n\u001b[0;32m    518\u001b[0m \u001b[38;5;124;03m    the best found parameters.\u001b[39;00m\n\u001b[0;32m    519\u001b[0m \u001b[38;5;124;03m\"\"\"\u001b[39;00m\n\u001b[0;32m    520\u001b[0m check_is_fitted(\u001b[38;5;28mself\u001b[39m)\n\u001b[1;32m--> 521\u001b[0m \u001b[38;5;28;01mreturn\u001b[39;00m \u001b[38;5;28;43mself\u001b[39;49m\u001b[38;5;241;43m.\u001b[39;49m\u001b[43mbest_estimator_\u001b[49m\u001b[38;5;241;43m.\u001b[39;49m\u001b[43mpredict\u001b[49m\u001b[43m(\u001b[49m\u001b[43mX\u001b[49m\u001b[43m)\u001b[49m\n",
      "File \u001b[1;32m~\\AppData\\Roaming\\Python\\Python38\\site-packages\\sklearn\\ensemble\\_forest.py:808\u001b[0m, in \u001b[0;36mForestClassifier.predict\u001b[1;34m(self, X)\u001b[0m\n\u001b[0;32m    787\u001b[0m \u001b[38;5;28;01mdef\u001b[39;00m \u001b[38;5;21mpredict\u001b[39m(\u001b[38;5;28mself\u001b[39m, X):\n\u001b[0;32m    788\u001b[0m     \u001b[38;5;124;03m\"\"\"\u001b[39;00m\n\u001b[0;32m    789\u001b[0m \u001b[38;5;124;03m    Predict class for X.\u001b[39;00m\n\u001b[0;32m    790\u001b[0m \n\u001b[1;32m   (...)\u001b[0m\n\u001b[0;32m    806\u001b[0m \u001b[38;5;124;03m        The predicted classes.\u001b[39;00m\n\u001b[0;32m    807\u001b[0m \u001b[38;5;124;03m    \"\"\"\u001b[39;00m\n\u001b[1;32m--> 808\u001b[0m     proba \u001b[38;5;241m=\u001b[39m \u001b[38;5;28;43mself\u001b[39;49m\u001b[38;5;241;43m.\u001b[39;49m\u001b[43mpredict_proba\u001b[49m\u001b[43m(\u001b[49m\u001b[43mX\u001b[49m\u001b[43m)\u001b[49m\n\u001b[0;32m    810\u001b[0m     \u001b[38;5;28;01mif\u001b[39;00m \u001b[38;5;28mself\u001b[39m\u001b[38;5;241m.\u001b[39mn_outputs_ \u001b[38;5;241m==\u001b[39m \u001b[38;5;241m1\u001b[39m:\n\u001b[0;32m    811\u001b[0m         \u001b[38;5;28;01mreturn\u001b[39;00m \u001b[38;5;28mself\u001b[39m\u001b[38;5;241m.\u001b[39mclasses_\u001b[38;5;241m.\u001b[39mtake(np\u001b[38;5;241m.\u001b[39margmax(proba, axis\u001b[38;5;241m=\u001b[39m\u001b[38;5;241m1\u001b[39m), axis\u001b[38;5;241m=\u001b[39m\u001b[38;5;241m0\u001b[39m)\n",
      "File \u001b[1;32m~\\AppData\\Roaming\\Python\\Python38\\site-packages\\sklearn\\ensemble\\_forest.py:850\u001b[0m, in \u001b[0;36mForestClassifier.predict_proba\u001b[1;34m(self, X)\u001b[0m\n\u001b[0;32m    848\u001b[0m check_is_fitted(\u001b[38;5;28mself\u001b[39m)\n\u001b[0;32m    849\u001b[0m \u001b[38;5;66;03m# Check data\u001b[39;00m\n\u001b[1;32m--> 850\u001b[0m X \u001b[38;5;241m=\u001b[39m \u001b[38;5;28;43mself\u001b[39;49m\u001b[38;5;241;43m.\u001b[39;49m\u001b[43m_validate_X_predict\u001b[49m\u001b[43m(\u001b[49m\u001b[43mX\u001b[49m\u001b[43m)\u001b[49m\n\u001b[0;32m    852\u001b[0m \u001b[38;5;66;03m# Assign chunk of trees to jobs\u001b[39;00m\n\u001b[0;32m    853\u001b[0m n_jobs, _, _ \u001b[38;5;241m=\u001b[39m _partition_estimators(\u001b[38;5;28mself\u001b[39m\u001b[38;5;241m.\u001b[39mn_estimators, \u001b[38;5;28mself\u001b[39m\u001b[38;5;241m.\u001b[39mn_jobs)\n",
      "File \u001b[1;32m~\\AppData\\Roaming\\Python\\Python38\\site-packages\\sklearn\\ensemble\\_forest.py:579\u001b[0m, in \u001b[0;36mBaseForest._validate_X_predict\u001b[1;34m(self, X)\u001b[0m\n\u001b[0;32m    576\u001b[0m \u001b[38;5;124;03m\"\"\"\u001b[39;00m\n\u001b[0;32m    577\u001b[0m \u001b[38;5;124;03mValidate X whenever one tries to predict, apply, predict_proba.\"\"\"\u001b[39;00m\n\u001b[0;32m    578\u001b[0m check_is_fitted(\u001b[38;5;28mself\u001b[39m)\n\u001b[1;32m--> 579\u001b[0m X \u001b[38;5;241m=\u001b[39m \u001b[38;5;28;43mself\u001b[39;49m\u001b[38;5;241;43m.\u001b[39;49m\u001b[43m_validate_data\u001b[49m\u001b[43m(\u001b[49m\u001b[43mX\u001b[49m\u001b[43m,\u001b[49m\u001b[43m \u001b[49m\u001b[43mdtype\u001b[49m\u001b[38;5;241;43m=\u001b[39;49m\u001b[43mDTYPE\u001b[49m\u001b[43m,\u001b[49m\u001b[43m \u001b[49m\u001b[43maccept_sparse\u001b[49m\u001b[38;5;241;43m=\u001b[39;49m\u001b[38;5;124;43m\"\u001b[39;49m\u001b[38;5;124;43mcsr\u001b[39;49m\u001b[38;5;124;43m\"\u001b[39;49m\u001b[43m,\u001b[49m\u001b[43m \u001b[49m\u001b[43mreset\u001b[49m\u001b[38;5;241;43m=\u001b[39;49m\u001b[38;5;28;43;01mFalse\u001b[39;49;00m\u001b[43m)\u001b[49m\n\u001b[0;32m    580\u001b[0m \u001b[38;5;28;01mif\u001b[39;00m issparse(X) \u001b[38;5;129;01mand\u001b[39;00m (X\u001b[38;5;241m.\u001b[39mindices\u001b[38;5;241m.\u001b[39mdtype \u001b[38;5;241m!=\u001b[39m np\u001b[38;5;241m.\u001b[39mintc \u001b[38;5;129;01mor\u001b[39;00m X\u001b[38;5;241m.\u001b[39mindptr\u001b[38;5;241m.\u001b[39mdtype \u001b[38;5;241m!=\u001b[39m np\u001b[38;5;241m.\u001b[39mintc):\n\u001b[0;32m    581\u001b[0m     \u001b[38;5;28;01mraise\u001b[39;00m \u001b[38;5;167;01mValueError\u001b[39;00m(\u001b[38;5;124m\"\u001b[39m\u001b[38;5;124mNo support for np.int64 index based sparse matrices\u001b[39m\u001b[38;5;124m\"\u001b[39m)\n",
      "File \u001b[1;32m~\\AppData\\Roaming\\Python\\Python38\\site-packages\\sklearn\\base.py:566\u001b[0m, in \u001b[0;36mBaseEstimator._validate_data\u001b[1;34m(self, X, y, reset, validate_separately, **check_params)\u001b[0m\n\u001b[0;32m    564\u001b[0m     \u001b[38;5;28;01mraise\u001b[39;00m \u001b[38;5;167;01mValueError\u001b[39;00m(\u001b[38;5;124m\"\u001b[39m\u001b[38;5;124mValidation should be done on X, y or both.\u001b[39m\u001b[38;5;124m\"\u001b[39m)\n\u001b[0;32m    565\u001b[0m \u001b[38;5;28;01melif\u001b[39;00m \u001b[38;5;129;01mnot\u001b[39;00m no_val_X \u001b[38;5;129;01mand\u001b[39;00m no_val_y:\n\u001b[1;32m--> 566\u001b[0m     X \u001b[38;5;241m=\u001b[39m \u001b[43mcheck_array\u001b[49m\u001b[43m(\u001b[49m\u001b[43mX\u001b[49m\u001b[43m,\u001b[49m\u001b[43m \u001b[49m\u001b[38;5;241;43m*\u001b[39;49m\u001b[38;5;241;43m*\u001b[39;49m\u001b[43mcheck_params\u001b[49m\u001b[43m)\u001b[49m\n\u001b[0;32m    567\u001b[0m     out \u001b[38;5;241m=\u001b[39m X\n\u001b[0;32m    568\u001b[0m \u001b[38;5;28;01melif\u001b[39;00m no_val_X \u001b[38;5;129;01mand\u001b[39;00m \u001b[38;5;129;01mnot\u001b[39;00m no_val_y:\n",
      "File \u001b[1;32m~\\AppData\\Roaming\\Python\\Python38\\site-packages\\sklearn\\utils\\validation.py:800\u001b[0m, in \u001b[0;36mcheck_array\u001b[1;34m(array, accept_sparse, accept_large_sparse, dtype, order, copy, force_all_finite, ensure_2d, allow_nd, ensure_min_samples, ensure_min_features, estimator)\u001b[0m\n\u001b[0;32m    794\u001b[0m         \u001b[38;5;28;01mraise\u001b[39;00m \u001b[38;5;167;01mValueError\u001b[39;00m(\n\u001b[0;32m    795\u001b[0m             \u001b[38;5;124m\"\u001b[39m\u001b[38;5;124mFound array with dim \u001b[39m\u001b[38;5;132;01m%d\u001b[39;00m\u001b[38;5;124m. \u001b[39m\u001b[38;5;132;01m%s\u001b[39;00m\u001b[38;5;124m expected <= 2.\u001b[39m\u001b[38;5;124m\"\u001b[39m\n\u001b[0;32m    796\u001b[0m             \u001b[38;5;241m%\u001b[39m (array\u001b[38;5;241m.\u001b[39mndim, estimator_name)\n\u001b[0;32m    797\u001b[0m         )\n\u001b[0;32m    799\u001b[0m     \u001b[38;5;28;01mif\u001b[39;00m force_all_finite:\n\u001b[1;32m--> 800\u001b[0m         \u001b[43m_assert_all_finite\u001b[49m\u001b[43m(\u001b[49m\u001b[43marray\u001b[49m\u001b[43m,\u001b[49m\u001b[43m \u001b[49m\u001b[43mallow_nan\u001b[49m\u001b[38;5;241;43m=\u001b[39;49m\u001b[43mforce_all_finite\u001b[49m\u001b[43m \u001b[49m\u001b[38;5;241;43m==\u001b[39;49m\u001b[43m \u001b[49m\u001b[38;5;124;43m\"\u001b[39;49m\u001b[38;5;124;43mallow-nan\u001b[39;49m\u001b[38;5;124;43m\"\u001b[39;49m\u001b[43m)\u001b[49m\n\u001b[0;32m    802\u001b[0m \u001b[38;5;28;01mif\u001b[39;00m ensure_min_samples \u001b[38;5;241m>\u001b[39m \u001b[38;5;241m0\u001b[39m:\n\u001b[0;32m    803\u001b[0m     n_samples \u001b[38;5;241m=\u001b[39m _num_samples(array)\n",
      "File \u001b[1;32m~\\AppData\\Roaming\\Python\\Python38\\site-packages\\sklearn\\utils\\validation.py:114\u001b[0m, in \u001b[0;36m_assert_all_finite\u001b[1;34m(X, allow_nan, msg_dtype)\u001b[0m\n\u001b[0;32m    107\u001b[0m     \u001b[38;5;28;01mif\u001b[39;00m (\n\u001b[0;32m    108\u001b[0m         allow_nan\n\u001b[0;32m    109\u001b[0m         \u001b[38;5;129;01mand\u001b[39;00m np\u001b[38;5;241m.\u001b[39misinf(X)\u001b[38;5;241m.\u001b[39many()\n\u001b[0;32m    110\u001b[0m         \u001b[38;5;129;01mor\u001b[39;00m \u001b[38;5;129;01mnot\u001b[39;00m allow_nan\n\u001b[0;32m    111\u001b[0m         \u001b[38;5;129;01mand\u001b[39;00m \u001b[38;5;129;01mnot\u001b[39;00m np\u001b[38;5;241m.\u001b[39misfinite(X)\u001b[38;5;241m.\u001b[39mall()\n\u001b[0;32m    112\u001b[0m     ):\n\u001b[0;32m    113\u001b[0m         type_err \u001b[38;5;241m=\u001b[39m \u001b[38;5;124m\"\u001b[39m\u001b[38;5;124minfinity\u001b[39m\u001b[38;5;124m\"\u001b[39m \u001b[38;5;28;01mif\u001b[39;00m allow_nan \u001b[38;5;28;01melse\u001b[39;00m \u001b[38;5;124m\"\u001b[39m\u001b[38;5;124mNaN, infinity\u001b[39m\u001b[38;5;124m\"\u001b[39m\n\u001b[1;32m--> 114\u001b[0m         \u001b[38;5;28;01mraise\u001b[39;00m \u001b[38;5;167;01mValueError\u001b[39;00m(\n\u001b[0;32m    115\u001b[0m             msg_err\u001b[38;5;241m.\u001b[39mformat(\n\u001b[0;32m    116\u001b[0m                 type_err, msg_dtype \u001b[38;5;28;01mif\u001b[39;00m msg_dtype \u001b[38;5;129;01mis\u001b[39;00m \u001b[38;5;129;01mnot\u001b[39;00m \u001b[38;5;28;01mNone\u001b[39;00m \u001b[38;5;28;01melse\u001b[39;00m X\u001b[38;5;241m.\u001b[39mdtype\n\u001b[0;32m    117\u001b[0m             )\n\u001b[0;32m    118\u001b[0m         )\n\u001b[0;32m    119\u001b[0m \u001b[38;5;66;03m# for object dtype data, we only check for NaNs (GH-13254)\u001b[39;00m\n\u001b[0;32m    120\u001b[0m \u001b[38;5;28;01melif\u001b[39;00m X\u001b[38;5;241m.\u001b[39mdtype \u001b[38;5;241m==\u001b[39m np\u001b[38;5;241m.\u001b[39mdtype(\u001b[38;5;124m\"\u001b[39m\u001b[38;5;124mobject\u001b[39m\u001b[38;5;124m\"\u001b[39m) \u001b[38;5;129;01mand\u001b[39;00m \u001b[38;5;129;01mnot\u001b[39;00m allow_nan:\n",
      "\u001b[1;31mValueError\u001b[0m: Input contains NaN, infinity or a value too large for dtype('float32')."
     ]
    }
   ],
   "source": [
    "pred_eth = clf.predict(test)"
   ]
  },
  {
   "cell_type": "code",
   "execution_count": null,
   "metadata": {},
   "outputs": [],
   "source": [
    "ETH['target'] = ETH['Close'].pct_change()\n",
    "ETH['target'] = np.where(ETH['target'] > 0 , 1, -1)\n",
    "ETH['target'] = ETH['target'].shift(-1)\n",
    "ETH.fillna(method='ffill', inplace=True)"
   ]
  },
  {
   "cell_type": "code",
   "execution_count": null,
   "metadata": {},
   "outputs": [],
   "source": [
    "print(pred_eth[0], ETH.iloc[0]['target'])"
   ]
  },
  {
   "cell_type": "code",
   "execution_count": null,
   "metadata": {},
   "outputs": [],
   "source": [
    "good = 0\n",
    "for i in range(len(ETH['target'])):\n",
    "    if pred_eth[i] == int(ETH.iloc[i]['target']):\n",
    "        good += 1\n",
    "    else:\n",
    "        continue"
   ]
  },
  {
   "cell_type": "code",
   "execution_count": null,
   "metadata": {},
   "outputs": [],
   "source": [
    "print(\"예측율 : \", good/len(ETH))"
   ]
  },
  {
   "cell_type": "code",
   "execution_count": null,
   "metadata": {},
   "outputs": [],
   "source": []
  }
 ],
 "metadata": {
  "kernelspec": {
   "display_name": "trader",
   "language": "python",
   "name": "trader"
  },
  "language_info": {
   "codemirror_mode": {
    "name": "ipython",
    "version": 3
   },
   "file_extension": ".py",
   "mimetype": "text/x-python",
   "name": "python",
   "nbconvert_exporter": "python",
   "pygments_lexer": "ipython3",
   "version": "3.8.13"
  }
 },
 "nbformat": 4,
 "nbformat_minor": 4
}
